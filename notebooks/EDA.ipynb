{
 "cells": [
  {
   "cell_type": "markdown",
   "id": "8bd658a6",
   "metadata": {},
   "source": [
    "# Final Project\n"
   ]
  },
  {
   "cell_type": "markdown",
   "id": "14132545",
   "metadata": {},
   "source": [
    "The objective of the 14th Pacific-Asia Knowledge Discovery and Data Mining conference (PAKDD 2010) was to develop a predictive risk assessment model to rank order credit card applicants on their probability to default on payments.\n",
    "\n",
    "There were 3 datasets used for the Challenge. They were collected during period from 2006 to 2009, and came from a private label credit card operation of a Brazilian credit company and its partner shops.\n",
    "\n",
    "The prediction targets to detect are the “bad” clients. A client is labeled as “bad” (target variable=1) if he/she made 60 days delay in any payment of the bills contracted along the first year after the credit has been granted. In short, the clients that do not pay their debt are labeled as “bad”.\n"
   ]
  },
  {
   "cell_type": "markdown",
   "id": "f48e3e65",
   "metadata": {},
   "source": [
    "### Understand data structure\n"
   ]
  },
  {
   "cell_type": "markdown",
   "id": "5bf793bf",
   "metadata": {},
   "source": [
    "The datasets that are available:\n",
    "1. Modelling (50,000 samples): This is the only dataset where we have the “target” information (we know the “bad” clients).\n",
    "<br>\n",
    "2. Leaderboard (20,000 samples): This dataset was used on the internet web-site of the competition to give instantaneous feedback about the accuracy of the different models developed by the different teams.\n",
    "<br>\n",
    "3. Prediction (20,000 samples): This is the only dataset that was used to obtain the final ranking of the competition.\n",
    "<br>\n",
    "4. Variable list: This is a .XLS that contains all the feature and its description.\n",
    "<br>\n",
    "5. Leaderboard Submission Example: This file contains an example of submission. Ids and Probabilities."
   ]
  },
  {
   "cell_type": "code",
   "execution_count": 1,
   "id": "4bc9ea76",
   "metadata": {},
   "outputs": [],
   "source": [
    "import warnings\n",
    "warnings.filterwarnings('ignore')\n",
    "import pandas as pd\n",
    "import numpy as np\n",
    "import seaborn as sns\n",
    "import matplotlib.pyplot as plt\n"
   ]
  },
  {
   "cell_type": "markdown",
   "id": "65f62fe4",
   "metadata": {},
   "source": [
    "### Reading the files"
   ]
  },
  {
   "cell_type": "code",
   "execution_count": 2,
   "id": "9e516662",
   "metadata": {},
   "outputs": [],
   "source": [
    "modeling_ds = pd.read_csv('../data/PAKDD-2010 training data/PAKDD2010_Modeling_Data.txt', encoding ='ISO-8859-1',sep='\\t', header = None )\n",
    "leaderboard_ds= pd.read_csv('../data/LeaderBoard_Data/PAKDD2010_Leaderboard_Data.txt',sep='\\t', header = None)\n",
    "prediction_ds = pd.read_csv('../data/Prediction_data/PAKDD2010_Prediction_Data.txt',sep='\\t', header = None)\n",
    "variable_description = pd.read_excel('../data/PAKDD2010_VariablesList.XLS')"
   ]
  },
  {
   "cell_type": "code",
   "execution_count": 3,
   "id": "edd19044",
   "metadata": {
    "scrolled": true
   },
   "outputs": [
    {
     "data": {
      "text/html": [
       "<div>\n",
       "<style scoped>\n",
       "    .dataframe tbody tr th:only-of-type {\n",
       "        vertical-align: middle;\n",
       "    }\n",
       "\n",
       "    .dataframe tbody tr th {\n",
       "        vertical-align: top;\n",
       "    }\n",
       "\n",
       "    .dataframe thead th {\n",
       "        text-align: right;\n",
       "    }\n",
       "</style>\n",
       "<table border=\"1\" class=\"dataframe\">\n",
       "  <thead>\n",
       "    <tr style=\"text-align: right;\">\n",
       "      <th></th>\n",
       "      <th>0</th>\n",
       "      <th>1</th>\n",
       "      <th>2</th>\n",
       "      <th>3</th>\n",
       "      <th>4</th>\n",
       "      <th>5</th>\n",
       "      <th>6</th>\n",
       "      <th>7</th>\n",
       "      <th>8</th>\n",
       "      <th>9</th>\n",
       "      <th>...</th>\n",
       "      <th>43</th>\n",
       "      <th>44</th>\n",
       "      <th>45</th>\n",
       "      <th>46</th>\n",
       "      <th>47</th>\n",
       "      <th>48</th>\n",
       "      <th>49</th>\n",
       "      <th>50</th>\n",
       "      <th>51</th>\n",
       "      <th>52</th>\n",
       "    </tr>\n",
       "  </thead>\n",
       "  <tbody>\n",
       "    <tr>\n",
       "      <th>0</th>\n",
       "      <td>50001</td>\n",
       "      <td>C</td>\n",
       "      <td>1</td>\n",
       "      <td>Web</td>\n",
       "      <td>0</td>\n",
       "      <td>1</td>\n",
       "      <td>F</td>\n",
       "      <td>1</td>\n",
       "      <td>0</td>\n",
       "      <td>4</td>\n",
       "      <td>...</td>\n",
       "      <td>NaN</td>\n",
       "      <td>0</td>\n",
       "      <td>0</td>\n",
       "      <td>0</td>\n",
       "      <td>0</td>\n",
       "      <td>1</td>\n",
       "      <td>Y</td>\n",
       "      <td>48</td>\n",
       "      <td>618</td>\n",
       "      <td>618</td>\n",
       "    </tr>\n",
       "    <tr>\n",
       "      <th>1</th>\n",
       "      <td>50002</td>\n",
       "      <td>C</td>\n",
       "      <td>20</td>\n",
       "      <td>Web</td>\n",
       "      <td>0</td>\n",
       "      <td>1</td>\n",
       "      <td>F</td>\n",
       "      <td>1</td>\n",
       "      <td>0</td>\n",
       "      <td>4</td>\n",
       "      <td>...</td>\n",
       "      <td>NaN</td>\n",
       "      <td>0</td>\n",
       "      <td>0</td>\n",
       "      <td>0</td>\n",
       "      <td>0</td>\n",
       "      <td>1</td>\n",
       "      <td>N</td>\n",
       "      <td>29</td>\n",
       "      <td>358</td>\n",
       "      <td>358</td>\n",
       "    </tr>\n",
       "    <tr>\n",
       "      <th>2</th>\n",
       "      <td>50003</td>\n",
       "      <td>C</td>\n",
       "      <td>25</td>\n",
       "      <td>Web</td>\n",
       "      <td>0</td>\n",
       "      <td>1</td>\n",
       "      <td>M</td>\n",
       "      <td>1</td>\n",
       "      <td>0</td>\n",
       "      <td>2</td>\n",
       "      <td>...</td>\n",
       "      <td>NaN</td>\n",
       "      <td>0</td>\n",
       "      <td>0</td>\n",
       "      <td>0</td>\n",
       "      <td>0</td>\n",
       "      <td>1</td>\n",
       "      <td>N</td>\n",
       "      <td>53</td>\n",
       "      <td>670</td>\n",
       "      <td>670</td>\n",
       "    </tr>\n",
       "    <tr>\n",
       "      <th>3</th>\n",
       "      <td>50004</td>\n",
       "      <td>C</td>\n",
       "      <td>10</td>\n",
       "      <td>Web</td>\n",
       "      <td>0</td>\n",
       "      <td>1</td>\n",
       "      <td>F</td>\n",
       "      <td>7</td>\n",
       "      <td>0</td>\n",
       "      <td>3</td>\n",
       "      <td>...</td>\n",
       "      <td>NaN</td>\n",
       "      <td>0</td>\n",
       "      <td>0</td>\n",
       "      <td>0</td>\n",
       "      <td>0</td>\n",
       "      <td>1</td>\n",
       "      <td>N</td>\n",
       "      <td>38</td>\n",
       "      <td>591</td>\n",
       "      <td>591</td>\n",
       "    </tr>\n",
       "    <tr>\n",
       "      <th>4</th>\n",
       "      <td>50005</td>\n",
       "      <td>C</td>\n",
       "      <td>25</td>\n",
       "      <td>Web</td>\n",
       "      <td>0</td>\n",
       "      <td>1</td>\n",
       "      <td>F</td>\n",
       "      <td>1</td>\n",
       "      <td>0</td>\n",
       "      <td>4</td>\n",
       "      <td>...</td>\n",
       "      <td>NaN</td>\n",
       "      <td>0</td>\n",
       "      <td>0</td>\n",
       "      <td>0</td>\n",
       "      <td>0</td>\n",
       "      <td>2</td>\n",
       "      <td>N</td>\n",
       "      <td>19</td>\n",
       "      <td>844</td>\n",
       "      <td>844</td>\n",
       "    </tr>\n",
       "  </tbody>\n",
       "</table>\n",
       "<p>5 rows × 53 columns</p>\n",
       "</div>"
      ],
      "text/plain": [
       "      0  1   2    3   4   5  6   7   8   9   ...  43 44  45 46 47 48 49  50  \\\n",
       "0  50001  C   1  Web   0   1  F   1   0   4  ... NaN  0   0  0  0  1  Y  48   \n",
       "1  50002  C  20  Web   0   1  F   1   0   4  ... NaN  0   0  0  0  1  N  29   \n",
       "2  50003  C  25  Web   0   1  M   1   0   2  ... NaN  0   0  0  0  1  N  53   \n",
       "3  50004  C  10  Web   0   1  F   7   0   3  ... NaN  0   0  0  0  1  N  38   \n",
       "4  50005  C  25  Web   0   1  F   1   0   4  ... NaN  0   0  0  0  2  N  19   \n",
       "\n",
       "    51   52  \n",
       "0  618  618  \n",
       "1  358  358  \n",
       "2  670  670  \n",
       "3  591  591  \n",
       "4  844  844  \n",
       "\n",
       "[5 rows x 53 columns]"
      ]
     },
     "execution_count": 3,
     "metadata": {},
     "output_type": "execute_result"
    }
   ],
   "source": [
    "leaderboard_ds.head()"
   ]
  },
  {
   "cell_type": "code",
   "execution_count": 4,
   "id": "049a6b83",
   "metadata": {},
   "outputs": [
    {
     "data": {
      "text/html": [
       "<div>\n",
       "<style scoped>\n",
       "    .dataframe tbody tr th:only-of-type {\n",
       "        vertical-align: middle;\n",
       "    }\n",
       "\n",
       "    .dataframe tbody tr th {\n",
       "        vertical-align: top;\n",
       "    }\n",
       "\n",
       "    .dataframe thead th {\n",
       "        text-align: right;\n",
       "    }\n",
       "</style>\n",
       "<table border=\"1\" class=\"dataframe\">\n",
       "  <thead>\n",
       "    <tr style=\"text-align: right;\">\n",
       "      <th></th>\n",
       "      <th>0</th>\n",
       "      <th>1</th>\n",
       "      <th>2</th>\n",
       "      <th>3</th>\n",
       "      <th>4</th>\n",
       "      <th>5</th>\n",
       "      <th>6</th>\n",
       "      <th>7</th>\n",
       "      <th>8</th>\n",
       "      <th>9</th>\n",
       "      <th>...</th>\n",
       "      <th>43</th>\n",
       "      <th>44</th>\n",
       "      <th>45</th>\n",
       "      <th>46</th>\n",
       "      <th>47</th>\n",
       "      <th>48</th>\n",
       "      <th>49</th>\n",
       "      <th>50</th>\n",
       "      <th>51</th>\n",
       "      <th>52</th>\n",
       "    </tr>\n",
       "  </thead>\n",
       "  <tbody>\n",
       "    <tr>\n",
       "      <th>0</th>\n",
       "      <td>70001</td>\n",
       "      <td>C</td>\n",
       "      <td>10</td>\n",
       "      <td>Web</td>\n",
       "      <td>NaN</td>\n",
       "      <td>1</td>\n",
       "      <td>F</td>\n",
       "      <td>1</td>\n",
       "      <td>0</td>\n",
       "      <td>5</td>\n",
       "      <td>...</td>\n",
       "      <td>NaN</td>\n",
       "      <td>0</td>\n",
       "      <td>0</td>\n",
       "      <td>0</td>\n",
       "      <td>0</td>\n",
       "      <td>2</td>\n",
       "      <td>N</td>\n",
       "      <td>29</td>\n",
       "      <td>318</td>\n",
       "      <td>318</td>\n",
       "    </tr>\n",
       "    <tr>\n",
       "      <th>1</th>\n",
       "      <td>70002</td>\n",
       "      <td>C</td>\n",
       "      <td>10</td>\n",
       "      <td>Web</td>\n",
       "      <td>NaN</td>\n",
       "      <td>1</td>\n",
       "      <td>F</td>\n",
       "      <td>1</td>\n",
       "      <td>0</td>\n",
       "      <td>3</td>\n",
       "      <td>...</td>\n",
       "      <td>2.0</td>\n",
       "      <td>0</td>\n",
       "      <td>0</td>\n",
       "      <td>0</td>\n",
       "      <td>0</td>\n",
       "      <td>2</td>\n",
       "      <td>N</td>\n",
       "      <td>41</td>\n",
       "      <td>173</td>\n",
       "      <td>173</td>\n",
       "    </tr>\n",
       "    <tr>\n",
       "      <th>2</th>\n",
       "      <td>70003</td>\n",
       "      <td>C</td>\n",
       "      <td>25</td>\n",
       "      <td>Web</td>\n",
       "      <td>NaN</td>\n",
       "      <td>1</td>\n",
       "      <td>F</td>\n",
       "      <td>2</td>\n",
       "      <td>0</td>\n",
       "      <td>4</td>\n",
       "      <td>...</td>\n",
       "      <td>NaN</td>\n",
       "      <td>0</td>\n",
       "      <td>0</td>\n",
       "      <td>0</td>\n",
       "      <td>0</td>\n",
       "      <td>1</td>\n",
       "      <td>N</td>\n",
       "      <td>38</td>\n",
       "      <td>716</td>\n",
       "      <td>716</td>\n",
       "    </tr>\n",
       "    <tr>\n",
       "      <th>3</th>\n",
       "      <td>70004</td>\n",
       "      <td>C</td>\n",
       "      <td>5</td>\n",
       "      <td>Web</td>\n",
       "      <td>NaN</td>\n",
       "      <td>1</td>\n",
       "      <td>F</td>\n",
       "      <td>1</td>\n",
       "      <td>0</td>\n",
       "      <td>3</td>\n",
       "      <td>...</td>\n",
       "      <td>NaN</td>\n",
       "      <td>0</td>\n",
       "      <td>0</td>\n",
       "      <td>0</td>\n",
       "      <td>0</td>\n",
       "      <td>1</td>\n",
       "      <td>N</td>\n",
       "      <td>45</td>\n",
       "      <td>869</td>\n",
       "      <td>869</td>\n",
       "    </tr>\n",
       "    <tr>\n",
       "      <th>4</th>\n",
       "      <td>70005</td>\n",
       "      <td>C</td>\n",
       "      <td>20</td>\n",
       "      <td>Web</td>\n",
       "      <td>NaN</td>\n",
       "      <td>1</td>\n",
       "      <td>F</td>\n",
       "      <td>1</td>\n",
       "      <td>0</td>\n",
       "      <td>4</td>\n",
       "      <td>...</td>\n",
       "      <td>NaN</td>\n",
       "      <td>0</td>\n",
       "      <td>0</td>\n",
       "      <td>0</td>\n",
       "      <td>0</td>\n",
       "      <td>1</td>\n",
       "      <td>N</td>\n",
       "      <td>49</td>\n",
       "      <td>289</td>\n",
       "      <td>289</td>\n",
       "    </tr>\n",
       "  </tbody>\n",
       "</table>\n",
       "<p>5 rows × 53 columns</p>\n",
       "</div>"
      ],
      "text/plain": [
       "      0  1   2    3   4   5  6   7   8   9   ...   43 44  45 46 47 48 49  50  \\\n",
       "0  70001  C  10  Web NaN   1  F   1   0   5  ...  NaN  0   0  0  0  2  N  29   \n",
       "1  70002  C  10  Web NaN   1  F   1   0   3  ...  2.0  0   0  0  0  2  N  41   \n",
       "2  70003  C  25  Web NaN   1  F   2   0   4  ...  NaN  0   0  0  0  1  N  38   \n",
       "3  70004  C   5  Web NaN   1  F   1   0   3  ...  NaN  0   0  0  0  1  N  45   \n",
       "4  70005  C  20  Web NaN   1  F   1   0   4  ...  NaN  0   0  0  0  1  N  49   \n",
       "\n",
       "    51   52  \n",
       "0  318  318  \n",
       "1  173  173  \n",
       "2  716  716  \n",
       "3  869  869  \n",
       "4  289  289  \n",
       "\n",
       "[5 rows x 53 columns]"
      ]
     },
     "execution_count": 4,
     "metadata": {},
     "output_type": "execute_result"
    }
   ],
   "source": [
    "prediction_ds.head()"
   ]
  },
  {
   "cell_type": "code",
   "execution_count": 5,
   "id": "f12faf5c",
   "metadata": {},
   "outputs": [
    {
     "data": {
      "text/html": [
       "<div>\n",
       "<style scoped>\n",
       "    .dataframe tbody tr th:only-of-type {\n",
       "        vertical-align: middle;\n",
       "    }\n",
       "\n",
       "    .dataframe tbody tr th {\n",
       "        vertical-align: top;\n",
       "    }\n",
       "\n",
       "    .dataframe thead th {\n",
       "        text-align: right;\n",
       "    }\n",
       "</style>\n",
       "<table border=\"1\" class=\"dataframe\">\n",
       "  <thead>\n",
       "    <tr style=\"text-align: right;\">\n",
       "      <th></th>\n",
       "      <th>Var_Id</th>\n",
       "      <th>Var_Title</th>\n",
       "      <th>Var_Description</th>\n",
       "      <th>Field_Content</th>\n",
       "    </tr>\n",
       "  </thead>\n",
       "  <tbody>\n",
       "    <tr>\n",
       "      <th>0</th>\n",
       "      <td>1</td>\n",
       "      <td>ID_CLIENT</td>\n",
       "      <td>Sequential number for the applicant (to be use...</td>\n",
       "      <td>1-50000, 50001-70000, 70001-90000</td>\n",
       "    </tr>\n",
       "    <tr>\n",
       "      <th>1</th>\n",
       "      <td>2</td>\n",
       "      <td>CLERK_TYPE</td>\n",
       "      <td>Not informed</td>\n",
       "      <td>C</td>\n",
       "    </tr>\n",
       "    <tr>\n",
       "      <th>2</th>\n",
       "      <td>3</td>\n",
       "      <td>PAYMENT_DAY</td>\n",
       "      <td>Day of the month for bill payment, chosen by t...</td>\n",
       "      <td>1,5,10,15,20,25</td>\n",
       "    </tr>\n",
       "    <tr>\n",
       "      <th>3</th>\n",
       "      <td>4</td>\n",
       "      <td>APPLICATION_SUBMISSION_TYPE</td>\n",
       "      <td>Indicates if the application was submitted via...</td>\n",
       "      <td>Web, Carga</td>\n",
       "    </tr>\n",
       "    <tr>\n",
       "      <th>4</th>\n",
       "      <td>5</td>\n",
       "      <td>QUANT_ADDITIONAL_CARDS</td>\n",
       "      <td>Quantity of additional cards asked for in the ...</td>\n",
       "      <td>1,2,NULL</td>\n",
       "    </tr>\n",
       "  </tbody>\n",
       "</table>\n",
       "</div>"
      ],
      "text/plain": [
       "   Var_Id                    Var_Title  \\\n",
       "0       1                    ID_CLIENT   \n",
       "1       2                   CLERK_TYPE   \n",
       "2       3                  PAYMENT_DAY   \n",
       "3       4  APPLICATION_SUBMISSION_TYPE   \n",
       "4       5       QUANT_ADDITIONAL_CARDS   \n",
       "\n",
       "                                     Var_Description  \\\n",
       "0  Sequential number for the applicant (to be use...   \n",
       "1                                       Not informed   \n",
       "2  Day of the month for bill payment, chosen by t...   \n",
       "3  Indicates if the application was submitted via...   \n",
       "4  Quantity of additional cards asked for in the ...   \n",
       "\n",
       "                       Field_Content  \n",
       "0  1-50000, 50001-70000, 70001-90000  \n",
       "1                                  C  \n",
       "2                    1,5,10,15,20,25  \n",
       "3                         Web, Carga  \n",
       "4                           1,2,NULL  "
      ]
     },
     "execution_count": 5,
     "metadata": {},
     "output_type": "execute_result"
    }
   ],
   "source": [
    "variable_description.head()"
   ]
  },
  {
   "cell_type": "markdown",
   "id": "c8986216",
   "metadata": {},
   "source": [
    "### Conclusion Reading Files\n",
    "\n",
    "As we can see, just modeling_ds has the target (1 Default, 0 Good payer). So <b>modeling_ds</b> will be de dataset used across EDA, preprocessing and modeling."
   ]
  },
  {
   "cell_type": "markdown",
   "id": "39c7e31f",
   "metadata": {},
   "source": [
    "## EDA\n",
    "\n"
   ]
  },
  {
   "cell_type": "markdown",
   "id": "1d728c86",
   "metadata": {},
   "source": [
    "### Creating dataset with modeling_ds and variable_description as feature names."
   ]
  },
  {
   "cell_type": "code",
   "execution_count": 6,
   "id": "5480bfa1",
   "metadata": {
    "scrolled": true
   },
   "outputs": [
    {
     "name": "stdout",
     "output_type": "stream",
     "text": [
      "['ID_CLIENT', 'CLERK_TYPE', 'PAYMENT_DAY', 'APPLICATION_SUBMISSION_TYPE', 'QUANT_ADDITIONAL_CARDS', 'POSTAL_ADDRESS_TYPE', 'SEX', 'MARITAL_STATUS', 'QUANT_DEPENDANTS', 'EDUCATION_LEVEL', 'STATE_OF_BIRTH', 'CITY_OF_BIRTH', 'NACIONALITY', 'RESIDENCIAL_STATE', 'RESIDENCIAL_CITY', 'RESIDENCIAL_BOROUGH', 'FLAG_RESIDENCIAL_PHONE', 'RESIDENCIAL_PHONE_AREA_CODE', 'RESIDENCE_TYPE', 'MONTHS_IN_RESIDENCE', 'FLAG_MOBILE_PHONE', 'FLAG_EMAIL', 'PERSONAL_MONTHLY_INCOME', 'OTHER_INCOMES', 'FLAG_VISA', 'FLAG_MASTERCARD', 'FLAG_DINERS', 'FLAG_AMERICAN_EXPRESS', 'FLAG_OTHER_CARDS', 'QUANT_BANKING_ACCOUNTS', 'QUANT_SPECIAL_BANKING_ACCOUNTS', 'PERSONAL_ASSETS_VALUE', 'QUANT_CARS', 'COMPANY', 'PROFESSIONAL_STATE', 'PROFESSIONAL_CITY', 'PROFESSIONAL_BOROUGH', 'FLAG_PROFESSIONAL_PHONE', 'PROFESSIONAL_PHONE_AREA_CODE', 'MONTHS_IN_THE_JOB', 'PROFESSION_CODE', 'OCCUPATION_TYPE', 'MATE_PROFESSION_CODE', 'EDUCATION_LEVEL', 'FLAG_HOME_ADDRESS_DOCUMENT', 'FLAG_RG', 'FLAG_CPF', 'FLAG_INCOME_PROOF', 'PRODUCT', 'FLAG_ACSP_RECORD', 'AGE', 'RESIDENCIAL_ZIP_3', 'PROFESSIONAL_ZIP_3', 'TARGET_LABEL_BAD=1']\n"
     ]
    }
   ],
   "source": [
    "labels = variable_description['Var_Title'].tolist()\n",
    "print(labels)"
   ]
  },
  {
   "cell_type": "markdown",
   "id": "99ef9aa0",
   "metadata": {},
   "source": [
    "<b>First problem appears</b>, labels have two 'EDUCATION_LEVEL' columns. First of them make reference to the person who is asking for the loan. The second one is for \"Mate's educational level ...\"\n",
    "    So, It will be replaced for \"MATE_EDUCATION_LEVEL\" in position 43"
   ]
  },
  {
   "cell_type": "code",
   "execution_count": 7,
   "id": "4ffdede6",
   "metadata": {},
   "outputs": [],
   "source": [
    "labels[43] = \"MATE_EDUCATION_LEVEL\"\n",
    "labels[-1] = \"TARGET\""
   ]
  },
  {
   "cell_type": "code",
   "execution_count": 40,
   "id": "c6a6f5ab",
   "metadata": {
    "scrolled": false
   },
   "outputs": [
    {
     "data": {
      "text/html": [
       "<div>\n",
       "<style scoped>\n",
       "    .dataframe tbody tr th:only-of-type {\n",
       "        vertical-align: middle;\n",
       "    }\n",
       "\n",
       "    .dataframe tbody tr th {\n",
       "        vertical-align: top;\n",
       "    }\n",
       "\n",
       "    .dataframe thead th {\n",
       "        text-align: right;\n",
       "    }\n",
       "</style>\n",
       "<table border=\"1\" class=\"dataframe\">\n",
       "  <thead>\n",
       "    <tr style=\"text-align: right;\">\n",
       "      <th></th>\n",
       "      <th>ID_CLIENT</th>\n",
       "      <th>CLERK_TYPE</th>\n",
       "      <th>PAYMENT_DAY</th>\n",
       "      <th>APPLICATION_SUBMISSION_TYPE</th>\n",
       "      <th>QUANT_ADDITIONAL_CARDS</th>\n",
       "      <th>POSTAL_ADDRESS_TYPE</th>\n",
       "      <th>SEX</th>\n",
       "      <th>MARITAL_STATUS</th>\n",
       "      <th>QUANT_DEPENDANTS</th>\n",
       "      <th>EDUCATION_LEVEL</th>\n",
       "      <th>...</th>\n",
       "      <th>FLAG_HOME_ADDRESS_DOCUMENT</th>\n",
       "      <th>FLAG_RG</th>\n",
       "      <th>FLAG_CPF</th>\n",
       "      <th>FLAG_INCOME_PROOF</th>\n",
       "      <th>PRODUCT</th>\n",
       "      <th>FLAG_ACSP_RECORD</th>\n",
       "      <th>AGE</th>\n",
       "      <th>RESIDENCIAL_ZIP_3</th>\n",
       "      <th>PROFESSIONAL_ZIP_3</th>\n",
       "      <th>TARGET</th>\n",
       "    </tr>\n",
       "  </thead>\n",
       "  <tbody>\n",
       "    <tr>\n",
       "      <th>0</th>\n",
       "      <td>1</td>\n",
       "      <td>C</td>\n",
       "      <td>5</td>\n",
       "      <td>Web</td>\n",
       "      <td>0</td>\n",
       "      <td>1</td>\n",
       "      <td>F</td>\n",
       "      <td>6</td>\n",
       "      <td>1</td>\n",
       "      <td>0</td>\n",
       "      <td>...</td>\n",
       "      <td>0</td>\n",
       "      <td>0</td>\n",
       "      <td>0</td>\n",
       "      <td>0</td>\n",
       "      <td>1</td>\n",
       "      <td>N</td>\n",
       "      <td>32</td>\n",
       "      <td>595</td>\n",
       "      <td>595</td>\n",
       "      <td>1</td>\n",
       "    </tr>\n",
       "    <tr>\n",
       "      <th>1</th>\n",
       "      <td>2</td>\n",
       "      <td>C</td>\n",
       "      <td>15</td>\n",
       "      <td>Carga</td>\n",
       "      <td>0</td>\n",
       "      <td>1</td>\n",
       "      <td>F</td>\n",
       "      <td>2</td>\n",
       "      <td>0</td>\n",
       "      <td>0</td>\n",
       "      <td>...</td>\n",
       "      <td>0</td>\n",
       "      <td>0</td>\n",
       "      <td>0</td>\n",
       "      <td>0</td>\n",
       "      <td>1</td>\n",
       "      <td>N</td>\n",
       "      <td>34</td>\n",
       "      <td>230</td>\n",
       "      <td>230</td>\n",
       "      <td>1</td>\n",
       "    </tr>\n",
       "    <tr>\n",
       "      <th>2</th>\n",
       "      <td>3</td>\n",
       "      <td>C</td>\n",
       "      <td>5</td>\n",
       "      <td>Web</td>\n",
       "      <td>0</td>\n",
       "      <td>1</td>\n",
       "      <td>F</td>\n",
       "      <td>2</td>\n",
       "      <td>0</td>\n",
       "      <td>0</td>\n",
       "      <td>...</td>\n",
       "      <td>0</td>\n",
       "      <td>0</td>\n",
       "      <td>0</td>\n",
       "      <td>0</td>\n",
       "      <td>1</td>\n",
       "      <td>N</td>\n",
       "      <td>27</td>\n",
       "      <td>591</td>\n",
       "      <td>591</td>\n",
       "      <td>0</td>\n",
       "    </tr>\n",
       "    <tr>\n",
       "      <th>3</th>\n",
       "      <td>4</td>\n",
       "      <td>C</td>\n",
       "      <td>20</td>\n",
       "      <td>Web</td>\n",
       "      <td>0</td>\n",
       "      <td>1</td>\n",
       "      <td>F</td>\n",
       "      <td>2</td>\n",
       "      <td>0</td>\n",
       "      <td>0</td>\n",
       "      <td>...</td>\n",
       "      <td>0</td>\n",
       "      <td>0</td>\n",
       "      <td>0</td>\n",
       "      <td>0</td>\n",
       "      <td>1</td>\n",
       "      <td>N</td>\n",
       "      <td>61</td>\n",
       "      <td>545</td>\n",
       "      <td>545</td>\n",
       "      <td>0</td>\n",
       "    </tr>\n",
       "    <tr>\n",
       "      <th>4</th>\n",
       "      <td>5</td>\n",
       "      <td>C</td>\n",
       "      <td>10</td>\n",
       "      <td>Web</td>\n",
       "      <td>0</td>\n",
       "      <td>1</td>\n",
       "      <td>M</td>\n",
       "      <td>2</td>\n",
       "      <td>0</td>\n",
       "      <td>0</td>\n",
       "      <td>...</td>\n",
       "      <td>0</td>\n",
       "      <td>0</td>\n",
       "      <td>0</td>\n",
       "      <td>0</td>\n",
       "      <td>1</td>\n",
       "      <td>N</td>\n",
       "      <td>48</td>\n",
       "      <td>235</td>\n",
       "      <td>235</td>\n",
       "      <td>1</td>\n",
       "    </tr>\n",
       "  </tbody>\n",
       "</table>\n",
       "<p>5 rows × 54 columns</p>\n",
       "</div>"
      ],
      "text/plain": [
       "   ID_CLIENT CLERK_TYPE  PAYMENT_DAY APPLICATION_SUBMISSION_TYPE  \\\n",
       "0          1          C            5                         Web   \n",
       "1          2          C           15                       Carga   \n",
       "2          3          C            5                         Web   \n",
       "3          4          C           20                         Web   \n",
       "4          5          C           10                         Web   \n",
       "\n",
       "   QUANT_ADDITIONAL_CARDS  POSTAL_ADDRESS_TYPE SEX  MARITAL_STATUS  \\\n",
       "0                       0                    1   F               6   \n",
       "1                       0                    1   F               2   \n",
       "2                       0                    1   F               2   \n",
       "3                       0                    1   F               2   \n",
       "4                       0                    1   M               2   \n",
       "\n",
       "   QUANT_DEPENDANTS  EDUCATION_LEVEL  ... FLAG_HOME_ADDRESS_DOCUMENT FLAG_RG  \\\n",
       "0                 1                0  ...                          0       0   \n",
       "1                 0                0  ...                          0       0   \n",
       "2                 0                0  ...                          0       0   \n",
       "3                 0                0  ...                          0       0   \n",
       "4                 0                0  ...                          0       0   \n",
       "\n",
       "   FLAG_CPF FLAG_INCOME_PROOF PRODUCT FLAG_ACSP_RECORD AGE RESIDENCIAL_ZIP_3  \\\n",
       "0         0                 0       1                N  32               595   \n",
       "1         0                 0       1                N  34               230   \n",
       "2         0                 0       1                N  27               591   \n",
       "3         0                 0       1                N  61               545   \n",
       "4         0                 0       1                N  48               235   \n",
       "\n",
       "   PROFESSIONAL_ZIP_3  TARGET  \n",
       "0                 595       1  \n",
       "1                 230       1  \n",
       "2                 591       0  \n",
       "3                 545       0  \n",
       "4                 235       1  \n",
       "\n",
       "[5 rows x 54 columns]"
      ]
     },
     "execution_count": 40,
     "metadata": {},
     "output_type": "execute_result"
    }
   ],
   "source": [
    "modeling_ds.columns = labels\n",
    "modeling_ds.head()"
   ]
  },
  {
   "cell_type": "markdown",
   "id": "de4b2e53",
   "metadata": {},
   "source": [
    "### Looking features, quantity and type:"
   ]
  },
  {
   "cell_type": "code",
   "execution_count": 11,
   "id": "e65d6c59",
   "metadata": {
    "scrolled": true
   },
   "outputs": [
    {
     "data": {
      "text/plain": [
       "(50000, 54)"
      ]
     },
     "execution_count": 11,
     "metadata": {},
     "output_type": "execute_result"
    }
   ],
   "source": [
    "modeling_ds.shape"
   ]
  },
  {
   "cell_type": "code",
   "execution_count": 12,
   "id": "53206b37",
   "metadata": {
    "scrolled": true
   },
   "outputs": [
    {
     "data": {
      "text/html": [
       "<div>\n",
       "<style scoped>\n",
       "    .dataframe tbody tr th:only-of-type {\n",
       "        vertical-align: middle;\n",
       "    }\n",
       "\n",
       "    .dataframe tbody tr th {\n",
       "        vertical-align: top;\n",
       "    }\n",
       "\n",
       "    .dataframe thead th {\n",
       "        text-align: right;\n",
       "    }\n",
       "</style>\n",
       "<table border=\"1\" class=\"dataframe\">\n",
       "  <thead>\n",
       "    <tr style=\"text-align: right;\">\n",
       "      <th></th>\n",
       "      <th>count</th>\n",
       "      <th>mean</th>\n",
       "      <th>std</th>\n",
       "      <th>min</th>\n",
       "      <th>25%</th>\n",
       "      <th>50%</th>\n",
       "      <th>75%</th>\n",
       "      <th>max</th>\n",
       "    </tr>\n",
       "  </thead>\n",
       "  <tbody>\n",
       "    <tr>\n",
       "      <th>ID_CLIENT</th>\n",
       "      <td>50000.00000</td>\n",
       "      <td>25000.50000</td>\n",
       "      <td>14433.90107</td>\n",
       "      <td>1.00000</td>\n",
       "      <td>12500.75000</td>\n",
       "      <td>25000.50000</td>\n",
       "      <td>37500.25000</td>\n",
       "      <td>50000.00000</td>\n",
       "    </tr>\n",
       "    <tr>\n",
       "      <th>PAYMENT_DAY</th>\n",
       "      <td>50000.00000</td>\n",
       "      <td>12.86992</td>\n",
       "      <td>6.60839</td>\n",
       "      <td>1.00000</td>\n",
       "      <td>10.00000</td>\n",
       "      <td>10.00000</td>\n",
       "      <td>15.00000</td>\n",
       "      <td>25.00000</td>\n",
       "    </tr>\n",
       "    <tr>\n",
       "      <th>QUANT_ADDITIONAL_CARDS</th>\n",
       "      <td>50000.00000</td>\n",
       "      <td>0.00000</td>\n",
       "      <td>0.00000</td>\n",
       "      <td>0.00000</td>\n",
       "      <td>0.00000</td>\n",
       "      <td>0.00000</td>\n",
       "      <td>0.00000</td>\n",
       "      <td>0.00000</td>\n",
       "    </tr>\n",
       "    <tr>\n",
       "      <th>POSTAL_ADDRESS_TYPE</th>\n",
       "      <td>50000.00000</td>\n",
       "      <td>1.00654</td>\n",
       "      <td>0.08061</td>\n",
       "      <td>1.00000</td>\n",
       "      <td>1.00000</td>\n",
       "      <td>1.00000</td>\n",
       "      <td>1.00000</td>\n",
       "      <td>2.00000</td>\n",
       "    </tr>\n",
       "    <tr>\n",
       "      <th>MARITAL_STATUS</th>\n",
       "      <td>50000.00000</td>\n",
       "      <td>2.14840</td>\n",
       "      <td>1.32285</td>\n",
       "      <td>0.00000</td>\n",
       "      <td>1.00000</td>\n",
       "      <td>2.00000</td>\n",
       "      <td>2.00000</td>\n",
       "      <td>7.00000</td>\n",
       "    </tr>\n",
       "    <tr>\n",
       "      <th>QUANT_DEPENDANTS</th>\n",
       "      <td>50000.00000</td>\n",
       "      <td>0.65052</td>\n",
       "      <td>1.19365</td>\n",
       "      <td>0.00000</td>\n",
       "      <td>0.00000</td>\n",
       "      <td>0.00000</td>\n",
       "      <td>1.00000</td>\n",
       "      <td>53.00000</td>\n",
       "    </tr>\n",
       "    <tr>\n",
       "      <th>EDUCATION_LEVEL</th>\n",
       "      <td>50000.00000</td>\n",
       "      <td>0.00000</td>\n",
       "      <td>0.00000</td>\n",
       "      <td>0.00000</td>\n",
       "      <td>0.00000</td>\n",
       "      <td>0.00000</td>\n",
       "      <td>0.00000</td>\n",
       "      <td>0.00000</td>\n",
       "    </tr>\n",
       "    <tr>\n",
       "      <th>NACIONALITY</th>\n",
       "      <td>50000.00000</td>\n",
       "      <td>0.96160</td>\n",
       "      <td>0.20210</td>\n",
       "      <td>0.00000</td>\n",
       "      <td>1.00000</td>\n",
       "      <td>1.00000</td>\n",
       "      <td>1.00000</td>\n",
       "      <td>2.00000</td>\n",
       "    </tr>\n",
       "    <tr>\n",
       "      <th>RESIDENCE_TYPE</th>\n",
       "      <td>48651.00000</td>\n",
       "      <td>1.25223</td>\n",
       "      <td>0.86783</td>\n",
       "      <td>0.00000</td>\n",
       "      <td>1.00000</td>\n",
       "      <td>1.00000</td>\n",
       "      <td>1.00000</td>\n",
       "      <td>5.00000</td>\n",
       "    </tr>\n",
       "    <tr>\n",
       "      <th>MONTHS_IN_RESIDENCE</th>\n",
       "      <td>46223.00000</td>\n",
       "      <td>9.72715</td>\n",
       "      <td>10.66884</td>\n",
       "      <td>0.00000</td>\n",
       "      <td>1.00000</td>\n",
       "      <td>6.00000</td>\n",
       "      <td>15.00000</td>\n",
       "      <td>228.00000</td>\n",
       "    </tr>\n",
       "    <tr>\n",
       "      <th>FLAG_EMAIL</th>\n",
       "      <td>50000.00000</td>\n",
       "      <td>0.80228</td>\n",
       "      <td>0.39828</td>\n",
       "      <td>0.00000</td>\n",
       "      <td>1.00000</td>\n",
       "      <td>1.00000</td>\n",
       "      <td>1.00000</td>\n",
       "      <td>1.00000</td>\n",
       "    </tr>\n",
       "    <tr>\n",
       "      <th>PERSONAL_MONTHLY_INCOME</th>\n",
       "      <td>50000.00000</td>\n",
       "      <td>886.67844</td>\n",
       "      <td>7846.95933</td>\n",
       "      <td>60.00000</td>\n",
       "      <td>360.00000</td>\n",
       "      <td>500.00000</td>\n",
       "      <td>800.00000</td>\n",
       "      <td>959000.00000</td>\n",
       "    </tr>\n",
       "    <tr>\n",
       "      <th>OTHER_INCOMES</th>\n",
       "      <td>50000.00000</td>\n",
       "      <td>35.43476</td>\n",
       "      <td>891.51514</td>\n",
       "      <td>0.00000</td>\n",
       "      <td>0.00000</td>\n",
       "      <td>0.00000</td>\n",
       "      <td>0.00000</td>\n",
       "      <td>194344.00000</td>\n",
       "    </tr>\n",
       "    <tr>\n",
       "      <th>FLAG_VISA</th>\n",
       "      <td>50000.00000</td>\n",
       "      <td>0.11144</td>\n",
       "      <td>0.31468</td>\n",
       "      <td>0.00000</td>\n",
       "      <td>0.00000</td>\n",
       "      <td>0.00000</td>\n",
       "      <td>0.00000</td>\n",
       "      <td>1.00000</td>\n",
       "    </tr>\n",
       "    <tr>\n",
       "      <th>FLAG_MASTERCARD</th>\n",
       "      <td>50000.00000</td>\n",
       "      <td>0.09746</td>\n",
       "      <td>0.29659</td>\n",
       "      <td>0.00000</td>\n",
       "      <td>0.00000</td>\n",
       "      <td>0.00000</td>\n",
       "      <td>0.00000</td>\n",
       "      <td>1.00000</td>\n",
       "    </tr>\n",
       "    <tr>\n",
       "      <th>FLAG_DINERS</th>\n",
       "      <td>50000.00000</td>\n",
       "      <td>0.00132</td>\n",
       "      <td>0.03631</td>\n",
       "      <td>0.00000</td>\n",
       "      <td>0.00000</td>\n",
       "      <td>0.00000</td>\n",
       "      <td>0.00000</td>\n",
       "      <td>1.00000</td>\n",
       "    </tr>\n",
       "    <tr>\n",
       "      <th>FLAG_AMERICAN_EXPRESS</th>\n",
       "      <td>50000.00000</td>\n",
       "      <td>0.00174</td>\n",
       "      <td>0.04168</td>\n",
       "      <td>0.00000</td>\n",
       "      <td>0.00000</td>\n",
       "      <td>0.00000</td>\n",
       "      <td>0.00000</td>\n",
       "      <td>1.00000</td>\n",
       "    </tr>\n",
       "    <tr>\n",
       "      <th>FLAG_OTHER_CARDS</th>\n",
       "      <td>50000.00000</td>\n",
       "      <td>0.00204</td>\n",
       "      <td>0.04512</td>\n",
       "      <td>0.00000</td>\n",
       "      <td>0.00000</td>\n",
       "      <td>0.00000</td>\n",
       "      <td>0.00000</td>\n",
       "      <td>1.00000</td>\n",
       "    </tr>\n",
       "    <tr>\n",
       "      <th>QUANT_BANKING_ACCOUNTS</th>\n",
       "      <td>50000.00000</td>\n",
       "      <td>0.35784</td>\n",
       "      <td>0.47995</td>\n",
       "      <td>0.00000</td>\n",
       "      <td>0.00000</td>\n",
       "      <td>0.00000</td>\n",
       "      <td>1.00000</td>\n",
       "      <td>2.00000</td>\n",
       "    </tr>\n",
       "    <tr>\n",
       "      <th>QUANT_SPECIAL_BANKING_ACCOUNTS</th>\n",
       "      <td>50000.00000</td>\n",
       "      <td>0.35784</td>\n",
       "      <td>0.47995</td>\n",
       "      <td>0.00000</td>\n",
       "      <td>0.00000</td>\n",
       "      <td>0.00000</td>\n",
       "      <td>1.00000</td>\n",
       "      <td>2.00000</td>\n",
       "    </tr>\n",
       "    <tr>\n",
       "      <th>PERSONAL_ASSETS_VALUE</th>\n",
       "      <td>50000.00000</td>\n",
       "      <td>2322.37238</td>\n",
       "      <td>42357.98440</td>\n",
       "      <td>0.00000</td>\n",
       "      <td>0.00000</td>\n",
       "      <td>0.00000</td>\n",
       "      <td>0.00000</td>\n",
       "      <td>6000000.00000</td>\n",
       "    </tr>\n",
       "    <tr>\n",
       "      <th>QUANT_CARS</th>\n",
       "      <td>50000.00000</td>\n",
       "      <td>0.33614</td>\n",
       "      <td>0.47239</td>\n",
       "      <td>0.00000</td>\n",
       "      <td>0.00000</td>\n",
       "      <td>0.00000</td>\n",
       "      <td>1.00000</td>\n",
       "      <td>1.00000</td>\n",
       "    </tr>\n",
       "    <tr>\n",
       "      <th>MONTHS_IN_THE_JOB</th>\n",
       "      <td>50000.00000</td>\n",
       "      <td>0.00932</td>\n",
       "      <td>0.38345</td>\n",
       "      <td>0.00000</td>\n",
       "      <td>0.00000</td>\n",
       "      <td>0.00000</td>\n",
       "      <td>0.00000</td>\n",
       "      <td>35.00000</td>\n",
       "    </tr>\n",
       "    <tr>\n",
       "      <th>PROFESSION_CODE</th>\n",
       "      <td>42244.00000</td>\n",
       "      <td>8.06178</td>\n",
       "      <td>3.22010</td>\n",
       "      <td>0.00000</td>\n",
       "      <td>9.00000</td>\n",
       "      <td>9.00000</td>\n",
       "      <td>9.00000</td>\n",
       "      <td>18.00000</td>\n",
       "    </tr>\n",
       "    <tr>\n",
       "      <th>OCCUPATION_TYPE</th>\n",
       "      <td>42687.00000</td>\n",
       "      <td>2.48432</td>\n",
       "      <td>1.53226</td>\n",
       "      <td>0.00000</td>\n",
       "      <td>1.00000</td>\n",
       "      <td>2.00000</td>\n",
       "      <td>4.00000</td>\n",
       "      <td>5.00000</td>\n",
       "    </tr>\n",
       "    <tr>\n",
       "      <th>MATE_PROFESSION_CODE</th>\n",
       "      <td>21116.00000</td>\n",
       "      <td>3.79793</td>\n",
       "      <td>5.21217</td>\n",
       "      <td>0.00000</td>\n",
       "      <td>0.00000</td>\n",
       "      <td>0.00000</td>\n",
       "      <td>11.00000</td>\n",
       "      <td>17.00000</td>\n",
       "    </tr>\n",
       "    <tr>\n",
       "      <th>MATE_EDUCATION_LEVEL</th>\n",
       "      <td>17662.00000</td>\n",
       "      <td>0.29600</td>\n",
       "      <td>0.95569</td>\n",
       "      <td>0.00000</td>\n",
       "      <td>0.00000</td>\n",
       "      <td>0.00000</td>\n",
       "      <td>0.00000</td>\n",
       "      <td>5.00000</td>\n",
       "    </tr>\n",
       "    <tr>\n",
       "      <th>FLAG_HOME_ADDRESS_DOCUMENT</th>\n",
       "      <td>50000.00000</td>\n",
       "      <td>0.00000</td>\n",
       "      <td>0.00000</td>\n",
       "      <td>0.00000</td>\n",
       "      <td>0.00000</td>\n",
       "      <td>0.00000</td>\n",
       "      <td>0.00000</td>\n",
       "      <td>0.00000</td>\n",
       "    </tr>\n",
       "    <tr>\n",
       "      <th>FLAG_RG</th>\n",
       "      <td>50000.00000</td>\n",
       "      <td>0.00000</td>\n",
       "      <td>0.00000</td>\n",
       "      <td>0.00000</td>\n",
       "      <td>0.00000</td>\n",
       "      <td>0.00000</td>\n",
       "      <td>0.00000</td>\n",
       "      <td>0.00000</td>\n",
       "    </tr>\n",
       "    <tr>\n",
       "      <th>FLAG_CPF</th>\n",
       "      <td>50000.00000</td>\n",
       "      <td>0.00000</td>\n",
       "      <td>0.00000</td>\n",
       "      <td>0.00000</td>\n",
       "      <td>0.00000</td>\n",
       "      <td>0.00000</td>\n",
       "      <td>0.00000</td>\n",
       "      <td>0.00000</td>\n",
       "    </tr>\n",
       "    <tr>\n",
       "      <th>FLAG_INCOME_PROOF</th>\n",
       "      <td>50000.00000</td>\n",
       "      <td>0.00000</td>\n",
       "      <td>0.00000</td>\n",
       "      <td>0.00000</td>\n",
       "      <td>0.00000</td>\n",
       "      <td>0.00000</td>\n",
       "      <td>0.00000</td>\n",
       "      <td>0.00000</td>\n",
       "    </tr>\n",
       "    <tr>\n",
       "      <th>PRODUCT</th>\n",
       "      <td>50000.00000</td>\n",
       "      <td>1.27570</td>\n",
       "      <td>0.98829</td>\n",
       "      <td>1.00000</td>\n",
       "      <td>1.00000</td>\n",
       "      <td>1.00000</td>\n",
       "      <td>1.00000</td>\n",
       "      <td>7.00000</td>\n",
       "    </tr>\n",
       "    <tr>\n",
       "      <th>AGE</th>\n",
       "      <td>50000.00000</td>\n",
       "      <td>43.24852</td>\n",
       "      <td>14.98905</td>\n",
       "      <td>6.00000</td>\n",
       "      <td>31.00000</td>\n",
       "      <td>41.00000</td>\n",
       "      <td>53.00000</td>\n",
       "      <td>106.00000</td>\n",
       "    </tr>\n",
       "    <tr>\n",
       "      <th>TARGET</th>\n",
       "      <td>50000.00000</td>\n",
       "      <td>0.26082</td>\n",
       "      <td>0.43909</td>\n",
       "      <td>0.00000</td>\n",
       "      <td>0.00000</td>\n",
       "      <td>0.00000</td>\n",
       "      <td>1.00000</td>\n",
       "      <td>1.00000</td>\n",
       "    </tr>\n",
       "  </tbody>\n",
       "</table>\n",
       "</div>"
      ],
      "text/plain": [
       "                                      count         mean          std  \\\n",
       "ID_CLIENT                       50000.00000  25000.50000  14433.90107   \n",
       "PAYMENT_DAY                     50000.00000     12.86992      6.60839   \n",
       "QUANT_ADDITIONAL_CARDS          50000.00000      0.00000      0.00000   \n",
       "POSTAL_ADDRESS_TYPE             50000.00000      1.00654      0.08061   \n",
       "MARITAL_STATUS                  50000.00000      2.14840      1.32285   \n",
       "QUANT_DEPENDANTS                50000.00000      0.65052      1.19365   \n",
       "EDUCATION_LEVEL                 50000.00000      0.00000      0.00000   \n",
       "NACIONALITY                     50000.00000      0.96160      0.20210   \n",
       "RESIDENCE_TYPE                  48651.00000      1.25223      0.86783   \n",
       "MONTHS_IN_RESIDENCE             46223.00000      9.72715     10.66884   \n",
       "FLAG_EMAIL                      50000.00000      0.80228      0.39828   \n",
       "PERSONAL_MONTHLY_INCOME         50000.00000    886.67844   7846.95933   \n",
       "OTHER_INCOMES                   50000.00000     35.43476    891.51514   \n",
       "FLAG_VISA                       50000.00000      0.11144      0.31468   \n",
       "FLAG_MASTERCARD                 50000.00000      0.09746      0.29659   \n",
       "FLAG_DINERS                     50000.00000      0.00132      0.03631   \n",
       "FLAG_AMERICAN_EXPRESS           50000.00000      0.00174      0.04168   \n",
       "FLAG_OTHER_CARDS                50000.00000      0.00204      0.04512   \n",
       "QUANT_BANKING_ACCOUNTS          50000.00000      0.35784      0.47995   \n",
       "QUANT_SPECIAL_BANKING_ACCOUNTS  50000.00000      0.35784      0.47995   \n",
       "PERSONAL_ASSETS_VALUE           50000.00000   2322.37238  42357.98440   \n",
       "QUANT_CARS                      50000.00000      0.33614      0.47239   \n",
       "MONTHS_IN_THE_JOB               50000.00000      0.00932      0.38345   \n",
       "PROFESSION_CODE                 42244.00000      8.06178      3.22010   \n",
       "OCCUPATION_TYPE                 42687.00000      2.48432      1.53226   \n",
       "MATE_PROFESSION_CODE            21116.00000      3.79793      5.21217   \n",
       "MATE_EDUCATION_LEVEL            17662.00000      0.29600      0.95569   \n",
       "FLAG_HOME_ADDRESS_DOCUMENT      50000.00000      0.00000      0.00000   \n",
       "FLAG_RG                         50000.00000      0.00000      0.00000   \n",
       "FLAG_CPF                        50000.00000      0.00000      0.00000   \n",
       "FLAG_INCOME_PROOF               50000.00000      0.00000      0.00000   \n",
       "PRODUCT                         50000.00000      1.27570      0.98829   \n",
       "AGE                             50000.00000     43.24852     14.98905   \n",
       "TARGET                          50000.00000      0.26082      0.43909   \n",
       "\n",
       "                                     min          25%          50%  \\\n",
       "ID_CLIENT                        1.00000  12500.75000  25000.50000   \n",
       "PAYMENT_DAY                      1.00000     10.00000     10.00000   \n",
       "QUANT_ADDITIONAL_CARDS           0.00000      0.00000      0.00000   \n",
       "POSTAL_ADDRESS_TYPE              1.00000      1.00000      1.00000   \n",
       "MARITAL_STATUS                   0.00000      1.00000      2.00000   \n",
       "QUANT_DEPENDANTS                 0.00000      0.00000      0.00000   \n",
       "EDUCATION_LEVEL                  0.00000      0.00000      0.00000   \n",
       "NACIONALITY                      0.00000      1.00000      1.00000   \n",
       "RESIDENCE_TYPE                   0.00000      1.00000      1.00000   \n",
       "MONTHS_IN_RESIDENCE              0.00000      1.00000      6.00000   \n",
       "FLAG_EMAIL                       0.00000      1.00000      1.00000   \n",
       "PERSONAL_MONTHLY_INCOME         60.00000    360.00000    500.00000   \n",
       "OTHER_INCOMES                    0.00000      0.00000      0.00000   \n",
       "FLAG_VISA                        0.00000      0.00000      0.00000   \n",
       "FLAG_MASTERCARD                  0.00000      0.00000      0.00000   \n",
       "FLAG_DINERS                      0.00000      0.00000      0.00000   \n",
       "FLAG_AMERICAN_EXPRESS            0.00000      0.00000      0.00000   \n",
       "FLAG_OTHER_CARDS                 0.00000      0.00000      0.00000   \n",
       "QUANT_BANKING_ACCOUNTS           0.00000      0.00000      0.00000   \n",
       "QUANT_SPECIAL_BANKING_ACCOUNTS   0.00000      0.00000      0.00000   \n",
       "PERSONAL_ASSETS_VALUE            0.00000      0.00000      0.00000   \n",
       "QUANT_CARS                       0.00000      0.00000      0.00000   \n",
       "MONTHS_IN_THE_JOB                0.00000      0.00000      0.00000   \n",
       "PROFESSION_CODE                  0.00000      9.00000      9.00000   \n",
       "OCCUPATION_TYPE                  0.00000      1.00000      2.00000   \n",
       "MATE_PROFESSION_CODE             0.00000      0.00000      0.00000   \n",
       "MATE_EDUCATION_LEVEL             0.00000      0.00000      0.00000   \n",
       "FLAG_HOME_ADDRESS_DOCUMENT       0.00000      0.00000      0.00000   \n",
       "FLAG_RG                          0.00000      0.00000      0.00000   \n",
       "FLAG_CPF                         0.00000      0.00000      0.00000   \n",
       "FLAG_INCOME_PROOF                0.00000      0.00000      0.00000   \n",
       "PRODUCT                          1.00000      1.00000      1.00000   \n",
       "AGE                              6.00000     31.00000     41.00000   \n",
       "TARGET                           0.00000      0.00000      0.00000   \n",
       "\n",
       "                                        75%            max  \n",
       "ID_CLIENT                       37500.25000    50000.00000  \n",
       "PAYMENT_DAY                        15.00000       25.00000  \n",
       "QUANT_ADDITIONAL_CARDS              0.00000        0.00000  \n",
       "POSTAL_ADDRESS_TYPE                 1.00000        2.00000  \n",
       "MARITAL_STATUS                      2.00000        7.00000  \n",
       "QUANT_DEPENDANTS                    1.00000       53.00000  \n",
       "EDUCATION_LEVEL                     0.00000        0.00000  \n",
       "NACIONALITY                         1.00000        2.00000  \n",
       "RESIDENCE_TYPE                      1.00000        5.00000  \n",
       "MONTHS_IN_RESIDENCE                15.00000      228.00000  \n",
       "FLAG_EMAIL                          1.00000        1.00000  \n",
       "PERSONAL_MONTHLY_INCOME           800.00000   959000.00000  \n",
       "OTHER_INCOMES                       0.00000   194344.00000  \n",
       "FLAG_VISA                           0.00000        1.00000  \n",
       "FLAG_MASTERCARD                     0.00000        1.00000  \n",
       "FLAG_DINERS                         0.00000        1.00000  \n",
       "FLAG_AMERICAN_EXPRESS               0.00000        1.00000  \n",
       "FLAG_OTHER_CARDS                    0.00000        1.00000  \n",
       "QUANT_BANKING_ACCOUNTS              1.00000        2.00000  \n",
       "QUANT_SPECIAL_BANKING_ACCOUNTS      1.00000        2.00000  \n",
       "PERSONAL_ASSETS_VALUE               0.00000  6000000.00000  \n",
       "QUANT_CARS                          1.00000        1.00000  \n",
       "MONTHS_IN_THE_JOB                   0.00000       35.00000  \n",
       "PROFESSION_CODE                     9.00000       18.00000  \n",
       "OCCUPATION_TYPE                     4.00000        5.00000  \n",
       "MATE_PROFESSION_CODE               11.00000       17.00000  \n",
       "MATE_EDUCATION_LEVEL                0.00000        5.00000  \n",
       "FLAG_HOME_ADDRESS_DOCUMENT          0.00000        0.00000  \n",
       "FLAG_RG                             0.00000        0.00000  \n",
       "FLAG_CPF                            0.00000        0.00000  \n",
       "FLAG_INCOME_PROOF                   0.00000        0.00000  \n",
       "PRODUCT                             1.00000        7.00000  \n",
       "AGE                                53.00000      106.00000  \n",
       "TARGET                              1.00000        1.00000  "
      ]
     },
     "execution_count": 12,
     "metadata": {},
     "output_type": "execute_result"
    }
   ],
   "source": [
    "# Describe Suppressing scientific notation.\n",
    "modeling_ds.describe().apply(lambda s: s.apply('{0:.5f}'.format)).T"
   ]
  },
  {
   "cell_type": "markdown",
   "id": "69af8ed7",
   "metadata": {},
   "source": [
    "<b>We have some columns with just one value</b> "
   ]
  },
  {
   "cell_type": "code",
   "execution_count": 13,
   "id": "4181b7a0",
   "metadata": {},
   "outputs": [],
   "source": [
    "def show_values(ds, max_values = 10, show_all = True):\n",
    "    lst_values = []\n",
    "    \n",
    "    for column in modeling_ds.columns:\n",
    "        try:\n",
    "            if modeling_ds[column].nunique() <= max_values:\n",
    "                print(f'Name: {column} | Quantity of values: {modeling_ds[column].nunique()} | Values: {modeling_ds[column].unique()} | Nan: {modeling_ds[column].isna().sum()} | Type: {modeling_ds[column].dtype} \\b')     \n",
    "                lst_values.append(column)\n",
    "            else:\n",
    "                if show_all:\n",
    "                    print(f'Name:{column} | Quantity of values: {modeling_ds[column].nunique()} | Nan: {modeling_ds[column].isna().sum()} | Type: {modeling_ds[column].dtype} \\b')     \n",
    "                else:\n",
    "                    pass\n",
    "        except Exception as e:\n",
    "            print(f'Error {e}, column {column}  ')\n",
    "    print(f'\\n Quantity of columns with {max_values} value: {len(lst_values)}')\n",
    "    return lst_values"
   ]
  },
  {
   "cell_type": "code",
   "execution_count": 14,
   "id": "ccfa9aac",
   "metadata": {
    "scrolled": true
   },
   "outputs": [
    {
     "name": "stdout",
     "output_type": "stream",
     "text": [
      "Name:ID_CLIENT | Quantity of values: 50000 | Nan: 0 | Type: int64\n",
      "Name: CLERK_TYPE | Quantity of values: 1 | Values: ['C'] | Nan: 0 | Type: object\n",
      "Name:PAYMENT_DAY | Quantity of values: 6 | Nan: 0 | Type: int64\n",
      "Name:APPLICATION_SUBMISSION_TYPE | Quantity of values: 3 | Nan: 0 | Type: object\n",
      "Name: QUANT_ADDITIONAL_CARDS | Quantity of values: 1 | Values: [0] | Nan: 0 | Type: int64\n",
      "Name:POSTAL_ADDRESS_TYPE | Quantity of values: 2 | Nan: 0 | Type: int64\n",
      "Name:SEX | Quantity of values: 4 | Nan: 0 | Type: object\n",
      "Name:MARITAL_STATUS | Quantity of values: 8 | Nan: 0 | Type: int64\n",
      "Name:QUANT_DEPENDANTS | Quantity of values: 17 | Nan: 0 | Type: int64\n",
      "Name: EDUCATION_LEVEL | Quantity of values: 1 | Values: [0] | Nan: 0 | Type: int64\n",
      "Name:STATE_OF_BIRTH | Quantity of values: 29 | Nan: 0 | Type: object\n",
      "Name:CITY_OF_BIRTH | Quantity of values: 9910 | Nan: 0 | Type: object\n",
      "Name:NACIONALITY | Quantity of values: 3 | Nan: 0 | Type: int64\n",
      "Name:RESIDENCIAL_STATE | Quantity of values: 27 | Nan: 0 | Type: object\n",
      "Name:RESIDENCIAL_CITY | Quantity of values: 3529 | Nan: 0 | Type: object\n",
      "Name:RESIDENCIAL_BOROUGH | Quantity of values: 14511 | Nan: 0 | Type: object\n",
      "Name:FLAG_RESIDENCIAL_PHONE | Quantity of values: 2 | Nan: 0 | Type: object\n",
      "Name:RESIDENCIAL_PHONE_AREA_CODE | Quantity of values: 102 | Nan: 0 | Type: object\n",
      "Name:RESIDENCE_TYPE | Quantity of values: 6 | Nan: 1349 | Type: float64\n",
      "Name:MONTHS_IN_RESIDENCE | Quantity of values: 88 | Nan: 3777 | Type: float64\n",
      "Name: FLAG_MOBILE_PHONE | Quantity of values: 1 | Values: ['N'] | Nan: 0 | Type: object\n",
      "Name:FLAG_EMAIL | Quantity of values: 2 | Nan: 0 | Type: int64\n",
      "Name:PERSONAL_MONTHLY_INCOME | Quantity of values: 5495 | Nan: 0 | Type: float64\n",
      "Name:OTHER_INCOMES | Quantity of values: 615 | Nan: 0 | Type: float64\n",
      "Name:FLAG_VISA | Quantity of values: 2 | Nan: 0 | Type: int64\n",
      "Name:FLAG_MASTERCARD | Quantity of values: 2 | Nan: 0 | Type: int64\n",
      "Name:FLAG_DINERS | Quantity of values: 2 | Nan: 0 | Type: int64\n",
      "Name:FLAG_AMERICAN_EXPRESS | Quantity of values: 2 | Nan: 0 | Type: int64\n",
      "Name:FLAG_OTHER_CARDS | Quantity of values: 2 | Nan: 0 | Type: int64\n",
      "Name:QUANT_BANKING_ACCOUNTS | Quantity of values: 3 | Nan: 0 | Type: int64\n",
      "Name:QUANT_SPECIAL_BANKING_ACCOUNTS | Quantity of values: 3 | Nan: 0 | Type: int64\n",
      "Name:PERSONAL_ASSETS_VALUE | Quantity of values: 153 | Nan: 0 | Type: float64\n",
      "Name:QUANT_CARS | Quantity of values: 2 | Nan: 0 | Type: int64\n",
      "Name:COMPANY | Quantity of values: 2 | Nan: 0 | Type: object\n",
      "Name:PROFESSIONAL_STATE | Quantity of values: 28 | Nan: 0 | Type: object\n",
      "Name:PROFESSIONAL_CITY | Quantity of values: 2236 | Nan: 33783 | Type: object\n",
      "Name:PROFESSIONAL_BOROUGH | Quantity of values: 5057 | Nan: 33783 | Type: object\n",
      "Name:FLAG_PROFESSIONAL_PHONE | Quantity of values: 2 | Nan: 0 | Type: object\n",
      "Name:PROFESSIONAL_PHONE_AREA_CODE | Quantity of values: 87 | Nan: 0 | Type: object\n",
      "Name:MONTHS_IN_THE_JOB | Quantity of values: 21 | Nan: 0 | Type: int64\n",
      "Name:PROFESSION_CODE | Quantity of values: 19 | Nan: 7756 | Type: float64\n",
      "Name:OCCUPATION_TYPE | Quantity of values: 6 | Nan: 7313 | Type: float64\n",
      "Name:MATE_PROFESSION_CODE | Quantity of values: 18 | Nan: 28884 | Type: float64\n",
      "Name:MATE_EDUCATION_LEVEL | Quantity of values: 6 | Nan: 32338 | Type: float64\n",
      "Name: FLAG_HOME_ADDRESS_DOCUMENT | Quantity of values: 1 | Values: [0] | Nan: 0 | Type: int64\n",
      "Name: FLAG_RG | Quantity of values: 1 | Values: [0] | Nan: 0 | Type: int64\n",
      "Name: FLAG_CPF | Quantity of values: 1 | Values: [0] | Nan: 0 | Type: int64\n",
      "Name: FLAG_INCOME_PROOF | Quantity of values: 1 | Values: [0] | Nan: 0 | Type: int64\n",
      "Name:PRODUCT | Quantity of values: 3 | Nan: 0 | Type: int64\n",
      "Name: FLAG_ACSP_RECORD | Quantity of values: 1 | Values: ['N'] | Nan: 0 | Type: object\n",
      "Name:AGE | Quantity of values: 89 | Nan: 0 | Type: int64\n",
      "Name:RESIDENCIAL_ZIP_3 | Quantity of values: 1481 | Nan: 0 | Type: object\n",
      "Name:PROFESSIONAL_ZIP_3 | Quantity of values: 1481 | Nan: 0 | Type: object\n",
      "Name:TARGET | Quantity of values: 2 | Nan: 0 | Type: int64\n",
      "\n",
      " Quantity of columns with 1 value: 9\n"
     ]
    }
   ],
   "source": [
    "unique_value_features = show_values(modeling_ds,max_values = 1, show_all = True)"
   ]
  },
  {
   "cell_type": "code",
   "execution_count": 15,
   "id": "0e9b525d",
   "metadata": {},
   "outputs": [
    {
     "data": {
      "text/plain": [
       "['CLERK_TYPE',\n",
       " 'QUANT_ADDITIONAL_CARDS',\n",
       " 'EDUCATION_LEVEL',\n",
       " 'FLAG_MOBILE_PHONE',\n",
       " 'FLAG_HOME_ADDRESS_DOCUMENT',\n",
       " 'FLAG_RG',\n",
       " 'FLAG_CPF',\n",
       " 'FLAG_INCOME_PROOF',\n",
       " 'FLAG_ACSP_RECORD']"
      ]
     },
     "execution_count": 15,
     "metadata": {},
     "output_type": "execute_result"
    }
   ],
   "source": [
    "unique_value_features"
   ]
  },
  {
   "cell_type": "code",
   "execution_count": 16,
   "id": "bccd5ee5",
   "metadata": {
    "scrolled": true
   },
   "outputs": [
    {
     "data": {
      "text/html": [
       "<div>\n",
       "<style scoped>\n",
       "    .dataframe tbody tr th:only-of-type {\n",
       "        vertical-align: middle;\n",
       "    }\n",
       "\n",
       "    .dataframe tbody tr th {\n",
       "        vertical-align: top;\n",
       "    }\n",
       "\n",
       "    .dataframe thead th {\n",
       "        text-align: right;\n",
       "    }\n",
       "</style>\n",
       "<table border=\"1\" class=\"dataframe\">\n",
       "  <thead>\n",
       "    <tr style=\"text-align: right;\">\n",
       "      <th></th>\n",
       "      <th>CLERK_TYPE</th>\n",
       "      <th>QUANT_ADDITIONAL_CARDS</th>\n",
       "      <th>EDUCATION_LEVEL</th>\n",
       "      <th>FLAG_MOBILE_PHONE</th>\n",
       "      <th>FLAG_HOME_ADDRESS_DOCUMENT</th>\n",
       "      <th>FLAG_RG</th>\n",
       "      <th>FLAG_CPF</th>\n",
       "      <th>FLAG_INCOME_PROOF</th>\n",
       "      <th>FLAG_ACSP_RECORD</th>\n",
       "    </tr>\n",
       "  </thead>\n",
       "  <tbody>\n",
       "    <tr>\n",
       "      <th>0</th>\n",
       "      <td>C</td>\n",
       "      <td>0</td>\n",
       "      <td>0</td>\n",
       "      <td>N</td>\n",
       "      <td>0</td>\n",
       "      <td>0</td>\n",
       "      <td>0</td>\n",
       "      <td>0</td>\n",
       "      <td>N</td>\n",
       "    </tr>\n",
       "    <tr>\n",
       "      <th>1</th>\n",
       "      <td>C</td>\n",
       "      <td>0</td>\n",
       "      <td>0</td>\n",
       "      <td>N</td>\n",
       "      <td>0</td>\n",
       "      <td>0</td>\n",
       "      <td>0</td>\n",
       "      <td>0</td>\n",
       "      <td>N</td>\n",
       "    </tr>\n",
       "    <tr>\n",
       "      <th>2</th>\n",
       "      <td>C</td>\n",
       "      <td>0</td>\n",
       "      <td>0</td>\n",
       "      <td>N</td>\n",
       "      <td>0</td>\n",
       "      <td>0</td>\n",
       "      <td>0</td>\n",
       "      <td>0</td>\n",
       "      <td>N</td>\n",
       "    </tr>\n",
       "    <tr>\n",
       "      <th>3</th>\n",
       "      <td>C</td>\n",
       "      <td>0</td>\n",
       "      <td>0</td>\n",
       "      <td>N</td>\n",
       "      <td>0</td>\n",
       "      <td>0</td>\n",
       "      <td>0</td>\n",
       "      <td>0</td>\n",
       "      <td>N</td>\n",
       "    </tr>\n",
       "    <tr>\n",
       "      <th>4</th>\n",
       "      <td>C</td>\n",
       "      <td>0</td>\n",
       "      <td>0</td>\n",
       "      <td>N</td>\n",
       "      <td>0</td>\n",
       "      <td>0</td>\n",
       "      <td>0</td>\n",
       "      <td>0</td>\n",
       "      <td>N</td>\n",
       "    </tr>\n",
       "  </tbody>\n",
       "</table>\n",
       "</div>"
      ],
      "text/plain": [
       "  CLERK_TYPE  QUANT_ADDITIONAL_CARDS  EDUCATION_LEVEL FLAG_MOBILE_PHONE  \\\n",
       "0          C                       0                0                 N   \n",
       "1          C                       0                0                 N   \n",
       "2          C                       0                0                 N   \n",
       "3          C                       0                0                 N   \n",
       "4          C                       0                0                 N   \n",
       "\n",
       "   FLAG_HOME_ADDRESS_DOCUMENT  FLAG_RG  FLAG_CPF  FLAG_INCOME_PROOF  \\\n",
       "0                           0        0         0                  0   \n",
       "1                           0        0         0                  0   \n",
       "2                           0        0         0                  0   \n",
       "3                           0        0         0                  0   \n",
       "4                           0        0         0                  0   \n",
       "\n",
       "  FLAG_ACSP_RECORD  \n",
       "0                N  \n",
       "1                N  \n",
       "2                N  \n",
       "3                N  \n",
       "4                N  "
      ]
     },
     "execution_count": 16,
     "metadata": {},
     "output_type": "execute_result"
    }
   ],
   "source": [
    "modeling_ds[unique_value_features].head()"
   ]
  },
  {
   "cell_type": "markdown",
   "id": "5d8bfcae",
   "metadata": {},
   "source": [
    "<b>Interesting finding, 9 columns have only 1 value and We can not infer it. So the decision is remove them from the dataset.</b>"
   ]
  },
  {
   "cell_type": "markdown",
   "id": "7a23f5f1",
   "metadata": {},
   "source": [
    "# Nan Values"
   ]
  },
  {
   "cell_type": "code",
   "execution_count": 17,
   "id": "ccd9a90d",
   "metadata": {},
   "outputs": [],
   "source": [
    "def missing_values_table(df):\n",
    "        # Total missing values\n",
    "        mis_val = df.isnull().sum()\n",
    "        \n",
    "        # Percentage of missing values\n",
    "        mis_val_percent = 100 * df.isnull().sum() / len(df)\n",
    "        \n",
    "        # Make a table with the results\n",
    "        mis_val_table = pd.concat([mis_val, mis_val_percent], axis=1)\n",
    "        \n",
    "        # Rename the columns\n",
    "        mis_val_table_ren_columns = mis_val_table.rename(\n",
    "        columns = {0 : 'Missing Values', 1 : '% of Total Values'})\n",
    "        \n",
    "        # Sort the table by percentage of missing descending\n",
    "        mis_val_table_ren_columns = mis_val_table_ren_columns[\n",
    "            mis_val_table_ren_columns.iloc[:,1] != 0].sort_values(\n",
    "        '% of Total Values', ascending=False).round(1)\n",
    "        \n",
    "        # Print some summary information\n",
    "        print (\"Your selected dataframe has \" + str(df.shape[1]) + \" columns.\\n\"      \n",
    "            \"There are \" + str(mis_val_table_ren_columns.shape[0]) +\n",
    "              \" columns that have missing values.\")\n",
    "        \n",
    "        # Return the dataframe with missing information\n",
    "        return mis_val_table_ren_columns"
   ]
  },
  {
   "cell_type": "code",
   "execution_count": 18,
   "id": "c8733be9",
   "metadata": {
    "scrolled": true
   },
   "outputs": [
    {
     "name": "stdout",
     "output_type": "stream",
     "text": [
      "Your selected dataframe has 54 columns.\n",
      "There are 8 columns that have missing values.\n"
     ]
    },
    {
     "data": {
      "text/html": [
       "<div>\n",
       "<style scoped>\n",
       "    .dataframe tbody tr th:only-of-type {\n",
       "        vertical-align: middle;\n",
       "    }\n",
       "\n",
       "    .dataframe tbody tr th {\n",
       "        vertical-align: top;\n",
       "    }\n",
       "\n",
       "    .dataframe thead th {\n",
       "        text-align: right;\n",
       "    }\n",
       "</style>\n",
       "<table border=\"1\" class=\"dataframe\">\n",
       "  <thead>\n",
       "    <tr style=\"text-align: right;\">\n",
       "      <th></th>\n",
       "      <th>Missing Values</th>\n",
       "      <th>% of Total Values</th>\n",
       "    </tr>\n",
       "  </thead>\n",
       "  <tbody>\n",
       "    <tr>\n",
       "      <th>PROFESSIONAL_CITY</th>\n",
       "      <td>33783</td>\n",
       "      <td>67.6</td>\n",
       "    </tr>\n",
       "    <tr>\n",
       "      <th>PROFESSIONAL_BOROUGH</th>\n",
       "      <td>33783</td>\n",
       "      <td>67.6</td>\n",
       "    </tr>\n",
       "    <tr>\n",
       "      <th>MATE_EDUCATION_LEVEL</th>\n",
       "      <td>32338</td>\n",
       "      <td>64.7</td>\n",
       "    </tr>\n",
       "    <tr>\n",
       "      <th>MATE_PROFESSION_CODE</th>\n",
       "      <td>28884</td>\n",
       "      <td>57.8</td>\n",
       "    </tr>\n",
       "    <tr>\n",
       "      <th>PROFESSION_CODE</th>\n",
       "      <td>7756</td>\n",
       "      <td>15.5</td>\n",
       "    </tr>\n",
       "    <tr>\n",
       "      <th>OCCUPATION_TYPE</th>\n",
       "      <td>7313</td>\n",
       "      <td>14.6</td>\n",
       "    </tr>\n",
       "    <tr>\n",
       "      <th>MONTHS_IN_RESIDENCE</th>\n",
       "      <td>3777</td>\n",
       "      <td>7.6</td>\n",
       "    </tr>\n",
       "    <tr>\n",
       "      <th>RESIDENCE_TYPE</th>\n",
       "      <td>1349</td>\n",
       "      <td>2.7</td>\n",
       "    </tr>\n",
       "  </tbody>\n",
       "</table>\n",
       "</div>"
      ],
      "text/plain": [
       "                      Missing Values  % of Total Values\n",
       "PROFESSIONAL_CITY              33783               67.6\n",
       "PROFESSIONAL_BOROUGH           33783               67.6\n",
       "MATE_EDUCATION_LEVEL           32338               64.7\n",
       "MATE_PROFESSION_CODE           28884               57.8\n",
       "PROFESSION_CODE                 7756               15.5\n",
       "OCCUPATION_TYPE                 7313               14.6\n",
       "MONTHS_IN_RESIDENCE             3777                7.6\n",
       "RESIDENCE_TYPE                  1349                2.7"
      ]
     },
     "execution_count": 18,
     "metadata": {},
     "output_type": "execute_result"
    }
   ],
   "source": [
    "missing_values_table(modeling_ds)"
   ]
  },
  {
   "cell_type": "markdown",
   "id": "0e923566",
   "metadata": {},
   "source": [
    "First four features have more than 50% of nans values. They will be taken into account for further analysis."
   ]
  },
  {
   "cell_type": "markdown",
   "id": "37c80c63",
   "metadata": {},
   "source": [
    "### Deep look into some variables :"
   ]
  },
  {
   "cell_type": "markdown",
   "id": "b9673509",
   "metadata": {},
   "source": [
    "<i><b>TARGET:</b> <br> A client is labeled as “bad” (target variable=1) if he/she made 60 days delay in any payment of the bills</i><br>"
   ]
  },
  {
   "cell_type": "code",
   "execution_count": 19,
   "id": "1b37a4bc",
   "metadata": {},
   "outputs": [
    {
     "data": {
      "text/plain": [
       "<matplotlib.axes._subplots.AxesSubplot at 0x7fea592918e0>"
      ]
     },
     "execution_count": 19,
     "metadata": {},
     "output_type": "execute_result"
    },
    {
     "data": {
      "image/png": "[encoded data removed]",
      "text/plain": [
       "<Figure size 432x288 with 1 Axes>"
      ]
     },
     "metadata": {
      "needs_background": "light"
     },
     "output_type": "display_data"
    }
   ],
   "source": [
    "sns.countplot(data=modeling_ds,x=modeling_ds['TARGET'].values)"
   ]
  },
  {
   "cell_type": "markdown",
   "id": "7cea83e5",
   "metadata": {},
   "source": [
    "There are 73,91% of the client that did not delay in any payment and there 26,08% that made 60 days delay in any payment of the bills contracted along the first year after the credit has been granted. \n",
    "The dataset is <b>not balanced</b> , this is noticed here and make us to recalibrate our model metrics to not get into the “Accuracy Paradox”.  "
   ]
  },
  {
   "cell_type": "markdown",
   "id": "03c67073",
   "metadata": {},
   "source": [
    "<i><b>PAYMENT_DAY:</b><br> Day of the month for bill payment, chosen by the applicant</i><br>\n",
    "As we see there are not nan values and We have 6 posibilities. Interesting finding, person who has they payment after the 15 day, are more propense to deafult. "
   ]
  },
  {
   "cell_type": "code",
   "execution_count": 20,
   "id": "3f7afb2f",
   "metadata": {},
   "outputs": [
    {
     "data": {
      "text/plain": [
       "<matplotlib.axes._subplots.AxesSubplot at 0x7fea591d5fa0>"
      ]
     },
     "execution_count": 20,
     "metadata": {},
     "output_type": "execute_result"
    },
    {
     "data": {
      "image/png": "[encoded data removed]",
      "text/plain": [
       "<Figure size 432x288 with 1 Axes>"
      ]
     },
     "metadata": {
      "needs_background": "light"
     },
     "output_type": "display_data"
    }
   ],
   "source": [
    "sns.countplot(data=modeling_ds,x=modeling_ds['PAYMENT_DAY'].values, hue = modeling_ds['TARGET'] )"
   ]
  },
  {
   "cell_type": "markdown",
   "id": "896d4b30",
   "metadata": {},
   "source": [
    "<i><b>APPLICATION_SUBMISSION_TYPE:</b><br> Indicates if the application was submitted via the internet or in person/posted</i><br> \n",
    "As we see there are not nan values and We have 3 posibilities. But What is \"0\" value?"
   ]
  },
  {
   "cell_type": "code",
   "execution_count": 21,
   "id": "de93ef79",
   "metadata": {
    "scrolled": false
   },
   "outputs": [
    {
     "data": {
      "text/plain": [
       "<matplotlib.axes._subplots.AxesSubplot at 0x7fea5916abb0>"
      ]
     },
     "execution_count": 21,
     "metadata": {},
     "output_type": "execute_result"
    },
    {
     "data": {
      "image/png": "[encoded data removed]",
      "text/plain": [
       "<Figure size 432x288 with 1 Axes>"
      ]
     },
     "metadata": {
      "needs_background": "light"
     },
     "output_type": "display_data"
    }
   ],
   "source": [
    "sns.countplot(data=modeling_ds,x=modeling_ds['APPLICATION_SUBMISSION_TYPE'].values, hue = modeling_ds['TARGET'] )"
   ]
  },
  {
   "cell_type": "markdown",
   "id": "a4dc7271",
   "metadata": {},
   "source": [
    "<i><b>SEX:</b></i><br> \n",
    "As we see there are not nan values and We have 4 posibilities. F, M, N and ' '. So N is like did not want to give this information but ' ' is like nothing was charge in the document."
   ]
  },
  {
   "cell_type": "code",
   "execution_count": 22,
   "id": "d8eda20d",
   "metadata": {
    "scrolled": false
   },
   "outputs": [
    {
     "data": {
      "text/plain": [
       "<matplotlib.axes._subplots.AxesSubplot at 0x7fea590e1670>"
      ]
     },
     "execution_count": 22,
     "metadata": {},
     "output_type": "execute_result"
    },
    {
     "data": {
      "image/png": "[encoded data removed]",
      "text/plain": [
       "<Figure size 432x288 with 1 Axes>"
      ]
     },
     "metadata": {
      "needs_background": "light"
     },
     "output_type": "display_data"
    }
   ],
   "source": [
    "sns.countplot(data=modeling_ds,x=modeling_ds['SEX'].values, hue = modeling_ds['TARGET'])"
   ]
  },
  {
   "cell_type": "markdown",
   "id": "23501497",
   "metadata": {},
   "source": [
    "<i><b>QUANT_BANKING_ACCOUNTS and QUANT_SPECIAL_BANKING_ACCOUNTS</b></i><br> \n",
    "This features are the same."
   ]
  },
  {
   "cell_type": "code",
   "execution_count": 23,
   "id": "4a012d44",
   "metadata": {},
   "outputs": [
    {
     "data": {
      "text/plain": [
       "True"
      ]
     },
     "execution_count": 23,
     "metadata": {},
     "output_type": "execute_result"
    }
   ],
   "source": [
    "modeling_ds['QUANT_BANKING_ACCOUNTS'].equals(modeling_ds['QUANT_SPECIAL_BANKING_ACCOUNTS'])"
   ]
  },
  {
   "cell_type": "markdown",
   "id": "96a85acc",
   "metadata": {},
   "source": [
    "<i><b>QUANT_DEPENDANTS:</b></i><br> \n",
    "As we see there are not nan values and we have some outliers like a person who has +50 dependants. We have to deal with this outliers in pre-proccessing."
   ]
  },
  {
   "cell_type": "code",
   "execution_count": 24,
   "id": "2d6ebc81",
   "metadata": {},
   "outputs": [
    {
     "data": {
      "text/plain": [
       "40462    53\n",
       "19449    15\n",
       "9018     14\n",
       "15065    14\n",
       "27904    14\n",
       "Name: QUANT_DEPENDANTS, dtype: int64"
      ]
     },
     "execution_count": 24,
     "metadata": {},
     "output_type": "execute_result"
    }
   ],
   "source": [
    "modeling_ds[\"QUANT_DEPENDANTS\"].nlargest(5)"
   ]
  },
  {
   "cell_type": "code",
   "execution_count": 25,
   "id": "ea1a4d16",
   "metadata": {
    "scrolled": true
   },
   "outputs": [
    {
     "data": {
      "text/plain": [
       "<matplotlib.axes._subplots.AxesSubplot at 0x7fea590bfc40>"
      ]
     },
     "execution_count": 25,
     "metadata": {},
     "output_type": "execute_result"
    },
    {
     "data": {
      "image/png": "[encoded data removed]",
      "text/plain": [
       "<Figure size 432x288 with 1 Axes>"
      ]
     },
     "metadata": {
      "needs_background": "light"
     },
     "output_type": "display_data"
    }
   ],
   "source": [
    "sns.boxplot( x=modeling_ds[\"QUANT_DEPENDANTS\"])"
   ]
  },
  {
   "cell_type": "markdown",
   "id": "b07282c3",
   "metadata": {},
   "source": [
    "<i><b>STATE_OF_BIRTH:</b></i><br> \n",
    "As we see there are not nan values and there are 29 posibilities but Brasil has 27 states. We have to deal with the blank space  and XX value."
   ]
  },
  {
   "cell_type": "code",
   "execution_count": 26,
   "id": "ebdf74bf",
   "metadata": {},
   "outputs": [
    {
     "data": {
      "text/plain": [
       "BA    5717\n",
       "SP    5695\n",
       "RS    5017\n",
       "CE    4786\n",
       "PE    4098\n",
       "MG    3776\n",
       "      2064\n",
       "RN    2008\n",
       "PR    1971\n",
       "RJ    1826\n",
       "PA    1692\n",
       "AL    1645\n",
       "PB    1609\n",
       "MA    1416\n",
       "GO    1143\n",
       "MT     849\n",
       "SC     707\n",
       "PI     675\n",
       "ES     638\n",
       "MS     496\n",
       "AC     474\n",
       "SE     356\n",
       "AM     354\n",
       "DF     310\n",
       "TO     244\n",
       "AP     236\n",
       "RO     155\n",
       "RR      42\n",
       "XX       1\n",
       "Name: STATE_OF_BIRTH, dtype: int64"
      ]
     },
     "execution_count": 26,
     "metadata": {},
     "output_type": "execute_result"
    }
   ],
   "source": [
    "modeling_ds['STATE_OF_BIRTH'].value_counts()"
   ]
  },
  {
   "cell_type": "markdown",
   "id": "da202daa",
   "metadata": {},
   "source": [
    "<i><b>Cities and ubication Features:</b></i><br> \n",
    "STATE_OF_BIRTH, CITY_OF_BIRTH, <br>\n",
    "RESIDENCIAL_STATE, RESIDENCIAL_CITY, RESIDENCIAL_BOROUGH, RESIDENCIAL_PHONE_AREA_CODE, <br>\n",
    "PROFESSIONAL_STATE, PROFESSIONAL_CITY, PROFESSIONAL_BOROUGH, PROFESSIONAL_PHONE_AREA_CODE, <br>\n",
    "RESIDENCIAL_ZIP_3, PROFESSIONAL_ZIP_3.\n",
    "\n",
    "Here I have an decision to take. Using the zip code of residencial and profesional we can replace all the state, city and phone area code. \n",
    "\n",
    "<a href = https://en.wikipedia.org/wiki/List_of_dialling_codes_in_Brazil> Phone Area Code </a>\n",
    "\n",
    "<b>Example of Zip</b> <br>\n",
    "In our brief example we analyze the postal code of the football stadium of Guarani F.C.\n",
    "\n",
    "Brinco De Ouro Da Princessa\n",
    "Av. Imperatriz Dona Tereza Cristina, 87\n",
    "Jardim Guarani, Campinas\n",
    "SP, 13100-200, Brasile\n",
    "\n",
    "1 – the first character indicates the region, in our case São Paulo <br>\n",
    "3 – the second character indicates the sub-region, Campinas <br>\n",
    "1 – the third character indicates the sector, Campinas and surroundings <br>\n",
    "\n",
    "Taking this into account let see an example of cities taking in count one ZIP"
   ]
  },
  {
   "cell_type": "code",
   "execution_count": 27,
   "id": "d65551d9",
   "metadata": {
    "scrolled": false
   },
   "outputs": [
    {
     "data": {
      "text/html": [
       "<div>\n",
       "<style scoped>\n",
       "    .dataframe tbody tr th:only-of-type {\n",
       "        vertical-align: middle;\n",
       "    }\n",
       "\n",
       "    .dataframe tbody tr th {\n",
       "        vertical-align: top;\n",
       "    }\n",
       "\n",
       "    .dataframe thead th {\n",
       "        text-align: right;\n",
       "    }\n",
       "</style>\n",
       "<table border=\"1\" class=\"dataframe\">\n",
       "  <thead>\n",
       "    <tr style=\"text-align: right;\">\n",
       "      <th></th>\n",
       "      <th>RESIDENCIAL_STATE</th>\n",
       "      <th>RESIDENCIAL_CITY</th>\n",
       "      <th>RESIDENCIAL_BOROUGH</th>\n",
       "      <th>RESIDENCIAL_PHONE_AREA_CODE</th>\n",
       "      <th>RESIDENCIAL_ZIP_3</th>\n",
       "    </tr>\n",
       "  </thead>\n",
       "  <tbody>\n",
       "    <tr>\n",
       "      <th>57</th>\n",
       "      <td>RS</td>\n",
       "      <td>Pelotas</td>\n",
       "      <td>Fragata</td>\n",
       "      <td></td>\n",
       "      <td>960</td>\n",
       "    </tr>\n",
       "    <tr>\n",
       "      <th>70</th>\n",
       "      <td>RS</td>\n",
       "      <td>pelotas</td>\n",
       "      <td>lot vasco pires</td>\n",
       "      <td>58</td>\n",
       "      <td>960</td>\n",
       "    </tr>\n",
       "    <tr>\n",
       "      <th>75</th>\n",
       "      <td>RS</td>\n",
       "      <td>PELOTAS</td>\n",
       "      <td>FRAGATA</td>\n",
       "      <td>58</td>\n",
       "      <td>960</td>\n",
       "    </tr>\n",
       "    <tr>\n",
       "      <th>134</th>\n",
       "      <td>RS</td>\n",
       "      <td>Pelotas</td>\n",
       "      <td>areal</td>\n",
       "      <td>58</td>\n",
       "      <td>960</td>\n",
       "    </tr>\n",
       "    <tr>\n",
       "      <th>246</th>\n",
       "      <td>RS</td>\n",
       "      <td>PELOTAS</td>\n",
       "      <td>FRAGATA</td>\n",
       "      <td>58</td>\n",
       "      <td>960</td>\n",
       "    </tr>\n",
       "    <tr>\n",
       "      <th>...</th>\n",
       "      <td>...</td>\n",
       "      <td>...</td>\n",
       "      <td>...</td>\n",
       "      <td>...</td>\n",
       "      <td>...</td>\n",
       "    </tr>\n",
       "    <tr>\n",
       "      <th>49778</th>\n",
       "      <td>RS</td>\n",
       "      <td>Pelotas</td>\n",
       "      <td>areal</td>\n",
       "      <td>58</td>\n",
       "      <td>960</td>\n",
       "    </tr>\n",
       "    <tr>\n",
       "      <th>49781</th>\n",
       "      <td>RS</td>\n",
       "      <td>PELOTAS</td>\n",
       "      <td>AREAL</td>\n",
       "      <td>58</td>\n",
       "      <td>960</td>\n",
       "    </tr>\n",
       "    <tr>\n",
       "      <th>49803</th>\n",
       "      <td>RS</td>\n",
       "      <td>PELOTAS</td>\n",
       "      <td>NAVEGANTES II</td>\n",
       "      <td>58</td>\n",
       "      <td>960</td>\n",
       "    </tr>\n",
       "    <tr>\n",
       "      <th>49850</th>\n",
       "      <td>RS</td>\n",
       "      <td>Pelotas</td>\n",
       "      <td>Fragata</td>\n",
       "      <td>58</td>\n",
       "      <td>960</td>\n",
       "    </tr>\n",
       "    <tr>\n",
       "      <th>49990</th>\n",
       "      <td>RS</td>\n",
       "      <td>Pelotas</td>\n",
       "      <td>Fragata</td>\n",
       "      <td></td>\n",
       "      <td>960</td>\n",
       "    </tr>\n",
       "  </tbody>\n",
       "</table>\n",
       "<p>721 rows × 5 columns</p>\n",
       "</div>"
      ],
      "text/plain": [
       "      RESIDENCIAL_STATE RESIDENCIAL_CITY RESIDENCIAL_BOROUGH  \\\n",
       "57                   RS          Pelotas             Fragata   \n",
       "70                   RS          pelotas     lot vasco pires   \n",
       "75                   RS          PELOTAS             FRAGATA   \n",
       "134                  RS          Pelotas               areal   \n",
       "246                  RS          PELOTAS             FRAGATA   \n",
       "...                 ...              ...                 ...   \n",
       "49778                RS          Pelotas               areal   \n",
       "49781                RS          PELOTAS               AREAL   \n",
       "49803                RS          PELOTAS       NAVEGANTES II   \n",
       "49850                RS          Pelotas             Fragata   \n",
       "49990                RS          Pelotas             Fragata   \n",
       "\n",
       "      RESIDENCIAL_PHONE_AREA_CODE RESIDENCIAL_ZIP_3  \n",
       "57                                              960  \n",
       "70                             58               960  \n",
       "75                             58               960  \n",
       "134                            58               960  \n",
       "246                            58               960  \n",
       "...                           ...               ...  \n",
       "49778                          58               960  \n",
       "49781                          58               960  \n",
       "49803                          58               960  \n",
       "49850                          58               960  \n",
       "49990                                           960  \n",
       "\n",
       "[721 rows x 5 columns]"
      ]
     },
     "execution_count": 27,
     "metadata": {},
     "output_type": "execute_result"
    }
   ],
   "source": [
    "modeling_ds[modeling_ds['RESIDENCIAL_ZIP_3']==960][['RESIDENCIAL_STATE','RESIDENCIAL_CITY', 'RESIDENCIAL_BOROUGH', 'RESIDENCIAL_PHONE_AREA_CODE', 'RESIDENCIAL_ZIP_3']]"
   ]
  },
  {
   "cell_type": "markdown",
   "id": "bbcf9736",
   "metadata": {},
   "source": [
    "<i><b>MONTHS_IN_RESIDENCE:</b></i><br> \n",
    "We have Nan values but there are not outliers."
   ]
  },
  {
   "cell_type": "code",
   "execution_count": 28,
   "id": "5e8c1f1f",
   "metadata": {},
   "outputs": [
    {
     "data": {
      "text/plain": [
       "3777"
      ]
     },
     "execution_count": 28,
     "metadata": {},
     "output_type": "execute_result"
    }
   ],
   "source": [
    "modeling_ds[\"MONTHS_IN_RESIDENCE\"].isna().sum()"
   ]
  },
  {
   "cell_type": "code",
   "execution_count": 29,
   "id": "327ceea6",
   "metadata": {
    "scrolled": true
   },
   "outputs": [
    {
     "data": {
      "text/plain": [
       "<matplotlib.axes._subplots.AxesSubplot at 0x7fea59018b50>"
      ]
     },
     "execution_count": 29,
     "metadata": {},
     "output_type": "execute_result"
    },
    {
     "data": {
      "image/png": "[encoded data removed]",
      "text/plain": [
       "<Figure size 432x288 with 1 Axes>"
      ]
     },
     "metadata": {
      "needs_background": "light"
     },
     "output_type": "display_data"
    }
   ],
   "source": [
    "sns.boxplot( x=modeling_ds[\"MONTHS_IN_RESIDENCE\"])"
   ]
  },
  {
   "cell_type": "markdown",
   "id": "a95c9b67",
   "metadata": {},
   "source": [
    "<i><b>PERSONAL_MONTHLY_INCOME:</b><br> Applicant's personal regular monthly income in Brazilian currency (R$)</i><br> \n",
    "We does not have nan values and We have some outlier. Also some values are strings"
   ]
  },
  {
   "cell_type": "code",
   "execution_count": 30,
   "id": "7e19eee0",
   "metadata": {
    "scrolled": true
   },
   "outputs": [
    {
     "data": {
      "text/plain": [
       "<matplotlib.axes._subplots.AxesSubplot at 0x7fea59004be0>"
      ]
     },
     "execution_count": 30,
     "metadata": {},
     "output_type": "execute_result"
    },
    {
     "data": {
      "image/png": "[encoded data removed]",
      "text/plain": [
       "<Figure size 432x288 with 1 Axes>"
      ]
     },
     "metadata": {
      "needs_background": "light"
     },
     "output_type": "display_data"
    }
   ],
   "source": [
    "sns.boxplot(x=modeling_ds[\"PERSONAL_MONTHLY_INCOME\"].values)"
   ]
  },
  {
   "cell_type": "markdown",
   "id": "8dcfa597",
   "metadata": {},
   "source": [
    "\n",
    "<i><b>PERSONAL_ASSETS_VALUE:</b><br> Total value of the personal possessions such as houses, cars etc. in Brazilian currency (R$).</i><br> \n",
    "We does not have nan values and We have some outlier. Also some values are strings and all values are zero before quantile 0.95"
   ]
  },
  {
   "cell_type": "code",
   "execution_count": 31,
   "id": "854d446e",
   "metadata": {},
   "outputs": [
    {
     "name": "stdout",
     "output_type": "stream",
     "text": [
      "0.0\n",
      "15000.0\n"
     ]
    }
   ],
   "source": [
    "print(modeling_ds['PERSONAL_ASSETS_VALUE'].quantile(0.95))\n",
    "print(modeling_ds['PERSONAL_ASSETS_VALUE'].quantile(0.96))"
   ]
  },
  {
   "cell_type": "code",
   "execution_count": 32,
   "id": "ee59020d",
   "metadata": {
    "scrolled": true
   },
   "outputs": [
    {
     "data": {
      "text/plain": [
       "<matplotlib.axes._subplots.AxesSubplot at 0x7fea58f59fa0>"
      ]
     },
     "execution_count": 32,
     "metadata": {},
     "output_type": "execute_result"
    },
    {
     "data": {
      "image/png": "[encoded data removed]",
      "text/plain": [
       "<Figure size 432x288 with 1 Axes>"
      ]
     },
     "metadata": {
      "needs_background": "light"
     },
     "output_type": "display_data"
    }
   ],
   "source": [
    "sns.boxplot(x=modeling_ds[\"PERSONAL_ASSETS_VALUE\"].values)"
   ]
  },
  {
   "cell_type": "markdown",
   "id": "61ccc62d",
   "metadata": {},
   "source": [
    "<i><b>MONTHS_IN_THE_JOB:</b><br> Time in the current job in months.</i><br> \n",
    "There are not Nans or extreme values."
   ]
  },
  {
   "cell_type": "code",
   "execution_count": 33,
   "id": "ef1a5ab5",
   "metadata": {},
   "outputs": [
    {
     "data": {
      "text/plain": [
       "<matplotlib.axes._subplots.AxesSubplot at 0x7fea58f3c3a0>"
      ]
     },
     "execution_count": 33,
     "metadata": {},
     "output_type": "execute_result"
    },
    {
     "data": {
      "image/png": "[encoded data removed]",
      "text/plain": [
       "<Figure size 432x288 with 1 Axes>"
      ]
     },
     "metadata": {
      "needs_background": "light"
     },
     "output_type": "display_data"
    }
   ],
   "source": [
    "sns.boxplot(x=modeling_ds[\"MONTHS_IN_THE_JOB\"].values)"
   ]
  },
  {
   "cell_type": "code",
   "execution_count": 34,
   "id": "69fdd580",
   "metadata": {},
   "outputs": [
    {
     "data": {
      "text/plain": [
       "7756"
      ]
     },
     "execution_count": 34,
     "metadata": {},
     "output_type": "execute_result"
    }
   ],
   "source": [
    "modeling_ds['PROFESSION_CODE'].isna().sum()"
   ]
  },
  {
   "cell_type": "markdown",
   "id": "631868ae",
   "metadata": {},
   "source": [
    "<i><b>MATE_PROFESSION_CODE and MATE_EDUCATION_LEVEL:</b></i><br> \n",
    "We have several Nans 57% and 64%. So in this case I will name another caterogry for example 7 or -1. To fill the Nans. I think the ausent of this value are a new catergory for example \"Not Profesional\" or \"Not Provided\""
   ]
  },
  {
   "cell_type": "markdown",
   "id": "463b2959",
   "metadata": {},
   "source": [
    "<i><b>AGE:</b> <br>Applicant's age at the moment of submission</i><br> \n",
    "We does not have Nans values. But We have some peculiear outliers. For example in Brasil the coming of age is at 18 years. So values under this age are wrong. And the <a href=https://bxblue.com.br/aprenda/limite-de-idade-emprestimo-consignado-inss/> limit</a> is around 80 years\n"
   ]
  },
  {
   "cell_type": "code",
   "execution_count": 35,
   "id": "76b405cf",
   "metadata": {},
   "outputs": [
    {
     "data": {
      "text/plain": [
       "81     73\n",
       "82     67\n",
       "83     53\n",
       "84     51\n",
       "85     42\n",
       "86     28\n",
       "87     25\n",
       "17     18\n",
       "89     18\n",
       "88     18\n",
       "90     16\n",
       "91     12\n",
       "92      7\n",
       "95      5\n",
       "96      4\n",
       "93      4\n",
       "94      4\n",
       "100     3\n",
       "106     2\n",
       "97      2\n",
       "99      2\n",
       "98      2\n",
       "101     1\n",
       "6       1\n",
       "7       1\n",
       "14      1\n",
       "Name: AGE, dtype: int64"
      ]
     },
     "execution_count": 35,
     "metadata": {},
     "output_type": "execute_result"
    }
   ],
   "source": [
    "modeling_ds[(modeling_ds['AGE']<18) | (modeling_ds['AGE']>80)]['AGE'].value_counts()"
   ]
  },
  {
   "cell_type": "code",
   "execution_count": 36,
   "id": "26d97c41",
   "metadata": {
    "scrolled": false
   },
   "outputs": [
    {
     "data": {
      "text/plain": [
       "<matplotlib.axes._subplots.AxesSubplot at 0x7fea58e96310>"
      ]
     },
     "execution_count": 36,
     "metadata": {},
     "output_type": "execute_result"
    },
    {
     "data": {
      "image/png": "[encoded data removed]",
      "text/plain": [
       "<Figure size 432x288 with 1 Axes>"
      ]
     },
     "metadata": {
      "needs_background": "light"
     },
     "output_type": "display_data"
    }
   ],
   "source": [
    "sns.boxplot(x=modeling_ds[\"AGE\"].values)"
   ]
  },
  {
   "cell_type": "markdown",
   "id": "c2bf3f24",
   "metadata": {},
   "source": [
    "<i><b>Zip Code:</b></i><br> \n",
    "RESIDENCIAL_ZIP_3 is the same as PROFESIONAL_ZIP_3.\n",
    "Some nan values.\n",
    "Register = 48923 wich city has the zip 687"
   ]
  },
  {
   "cell_type": "code",
   "execution_count": 37,
   "id": "93383a91",
   "metadata": {
    "scrolled": true
   },
   "outputs": [
    {
     "data": {
      "text/plain": [
       "'#DIV/0!'"
      ]
     },
     "execution_count": 37,
     "metadata": {},
     "output_type": "execute_result"
    }
   ],
   "source": [
    "modeling_ds.iloc[48923]['RESIDENCIAL_ZIP_3']\n"
   ]
  },
  {
   "cell_type": "code",
   "execution_count": 38,
   "id": "6e98200e",
   "metadata": {},
   "outputs": [
    {
     "data": {
      "text/plain": [
       "array([ True])"
      ]
     },
     "execution_count": 38,
     "metadata": {},
     "output_type": "execute_result"
    }
   ],
   "source": [
    "a =  modeling_ds['RESIDENCIAL_ZIP_3'] == modeling_ds['PROFESSIONAL_ZIP_3']\n",
    "a.unique()"
   ]
  }
 ],
 "metadata": {
  "kernelspec": {
   "display_name": "Python 3 (ipykernel)",
   "language": "python",
   "name": "python3"
  },
  "language_info": {
   "codemirror_mode": {
    "name": "ipython",
    "version": 3
   },
   "file_extension": ".py",
   "mimetype": "text/x-python",
   "name": "python",
   "nbconvert_exporter": "python",
   "pygments_lexer": "ipython3",
   "version": "3.8.13"
  }
 },
 "nbformat": 4,
 "nbformat_minor": 5
}
